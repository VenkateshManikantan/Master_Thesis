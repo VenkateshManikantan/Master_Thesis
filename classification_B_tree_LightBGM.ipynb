{
 "cells": [
  {
   "cell_type": "code",
   "execution_count": 25,
   "metadata": {},
   "outputs": [],
   "source": [
    "import pandas as pd \n",
    "from sklearn.decomposition import KernelPCA \n",
    "import seaborn as sns \n",
    "import matplotlib.pyplot as plt\n",
    "from sklearn.preprocessing import StandardScaler\n",
    "from mpl_toolkits.mplot3d import Axes3D\n",
    "from matplotlib.colors import ListedColormap\n",
    "import numpy as np\n",
    "import plotly.express as px\n",
    "import nbformat\n",
    "from imblearn.over_sampling import SMOTE\n",
    "from collections import Counter\n",
    "from matplotlib import pyplot\n",
    "from sklearn.preprocessing import LabelEncoder\n",
    "from sklearn import ensemble\n",
    "from sklearn.metrics import mean_squared_error\n",
    "from sklearn.metrics import r2_score\n",
    "from sklearn.model_selection import train_test_split\n",
    "import shap\n",
    "import plotly.graph_objects as go\n",
    "from sklearn.metrics import roc_auc_score\n",
    "import xgboost as xgb"
   ]
  },
  {
   "cell_type": "code",
   "execution_count": 2,
   "metadata": {},
   "outputs": [],
   "source": [
    "data_c = pd.read_table(\"data/sequence_ogt_topt_features2_JF_19Jun22.tab\")\n",
    "data = pd.read_table(\"data/sequence_ogt_topt_features2_JF_19Jun22.tab\")\n",
    "\n",
    "def temp_range_to_class(value):\n",
    "    if value <= 20:\n",
    "        return \"very low\"\n",
    "    elif value <= 40 and value > 20:\n",
    "        return \"low\"\n",
    "    elif value <= 60 and value > 40:\n",
    "        return \"moderate\"\n",
    "    elif value <= 80 and value > 60:\n",
    "        return \"high\"\n",
    "    elif value <= 100 and value > 80:\n",
    "        return \"very high\"\n",
    "    \n",
    "def temp_range_to_no(value):\n",
    "    if value <= 20:\n",
    "        return 0\n",
    "    elif value <= 40 and value > 20:\n",
    "        return 1\n",
    "    elif value <= 60 and value > 40:\n",
    "        return 2\n",
    "    elif value <= 80 and value > 60:\n",
    "        return 3\n",
    "    elif value <= 100 and value > 80:\n",
    "        return 4\n",
    "\n",
    "data[\"range\"] = data[\"seq_TEMP\"].apply(temp_range_to_class)\n",
    "data[\"range\"] = data[\"seq_TEMP\"].apply(temp_range_to_no)"
   ]
  },
  {
   "cell_type": "code",
   "execution_count": 26,
   "metadata": {},
   "outputs": [],
   "source": [
    "def temp_range_to_class_40_or_no(value):\n",
    "    if value <= 60 and value > 40:\n",
    "        return \"40-60\"\n",
    "    else:\n",
    "        return \"rest\"\n",
    "    \n",
    "def temp_range_to_no_40_or_rest(value):\n",
    "    if value <= 60 and value > 40:\n",
    "        return 1\n",
    "    else:\n",
    "        return 0\n",
    "\n",
    "\n",
    "data[\"range\"] = data[\"seq_TEMP\"].apply(temp_range_to_no_40_or_rest)"
   ]
  },
  {
   "cell_type": "code",
   "execution_count": 27,
   "metadata": {},
   "outputs": [],
   "source": [
    "Reduction_data = data.drop([\"seq_id\",\"seq_OGT\",\"seq_TEMP\",\"length\"], axis = 1)\n",
    "Data_Full = Reduction_data.iloc[:,0:9526]\n",
    "Data_Full = Data_Full.drop(Data_Full.iloc[:,574:1126],axis = 1)"
   ]
  },
  {
   "cell_type": "code",
   "execution_count": 28,
   "metadata": {},
   "outputs": [],
   "source": [
    "input_d = Data_Full\n",
    "output_d = data[\"range\"]"
   ]
  },
  {
   "cell_type": "code",
   "execution_count": 55,
   "metadata": {},
   "outputs": [],
   "source": [
    "input_d['range'] = data[\"range\"]"
   ]
  },
  {
   "cell_type": "code",
   "execution_count": 53,
   "metadata": {},
   "outputs": [],
   "source": [
    "input_d['range'] = input_d['range'].astype(str)"
   ]
  },
  {
   "cell_type": "code",
   "execution_count": 30,
   "metadata": {},
   "outputs": [
    {
     "data": {
      "text/plain": [
       "0    2662\n",
       "1     255\n",
       "Name: range, dtype: int64"
      ]
     },
     "execution_count": 30,
     "metadata": {},
     "output_type": "execute_result"
    }
   ],
   "source": [
    "output_d.value_counts()"
   ]
  },
  {
   "cell_type": "code",
   "execution_count": 56,
   "metadata": {},
   "outputs": [],
   "source": [
    "from verstack.stratified_continuous_split import scsplit\n",
    "train, test = scsplit(input_d, stratify = input_d[\"range\"],test_size = 0.3,\n",
    "                                             train_size = 0.7, random_state = 0)"
   ]
  },
  {
   "cell_type": "code",
   "execution_count": 32,
   "metadata": {},
   "outputs": [
    {
     "data": {
      "text/plain": [
       "0    1863\n",
       "1     178\n",
       "Name: range, dtype: int64"
      ]
     },
     "execution_count": 32,
     "metadata": {},
     "output_type": "execute_result"
    }
   ],
   "source": [
    "train[\"range\"].value_counts()"
   ]
  },
  {
   "cell_type": "code",
   "execution_count": null,
   "metadata": {},
   "outputs": [],
   "source": [
    "train[\"range\"]"
   ]
  },
  {
   "cell_type": "code",
   "execution_count": 33,
   "metadata": {},
   "outputs": [
    {
     "data": {
      "text/html": [
       "<div>\n",
       "<style scoped>\n",
       "    .dataframe tbody tr th:only-of-type {\n",
       "        vertical-align: middle;\n",
       "    }\n",
       "\n",
       "    .dataframe tbody tr th {\n",
       "        vertical-align: top;\n",
       "    }\n",
       "\n",
       "    .dataframe thead th {\n",
       "        text-align: right;\n",
       "    }\n",
       "</style>\n",
       "<table border=\"1\" class=\"dataframe\">\n",
       "  <thead>\n",
       "    <tr style=\"text-align: right;\">\n",
       "      <th></th>\n",
       "      <th>A</th>\n",
       "      <th>C</th>\n",
       "      <th>D</th>\n",
       "      <th>E</th>\n",
       "      <th>F</th>\n",
       "      <th>G</th>\n",
       "      <th>H</th>\n",
       "      <th>I</th>\n",
       "      <th>K</th>\n",
       "      <th>L</th>\n",
       "      <th>...</th>\n",
       "      <th>YYN</th>\n",
       "      <th>YYP</th>\n",
       "      <th>YYQ</th>\n",
       "      <th>YYR</th>\n",
       "      <th>YYS</th>\n",
       "      <th>YYT</th>\n",
       "      <th>YYV</th>\n",
       "      <th>YYW</th>\n",
       "      <th>YYY</th>\n",
       "      <th>range</th>\n",
       "    </tr>\n",
       "  </thead>\n",
       "  <tbody>\n",
       "    <tr>\n",
       "      <th>705</th>\n",
       "      <td>0.087227</td>\n",
       "      <td>0.012461</td>\n",
       "      <td>0.068536</td>\n",
       "      <td>0.093458</td>\n",
       "      <td>0.028037</td>\n",
       "      <td>0.084112</td>\n",
       "      <td>0.009346</td>\n",
       "      <td>0.087227</td>\n",
       "      <td>0.031153</td>\n",
       "      <td>0.074766</td>\n",
       "      <td>...</td>\n",
       "      <td>0.000000</td>\n",
       "      <td>0.00000</td>\n",
       "      <td>0.0</td>\n",
       "      <td>0.0</td>\n",
       "      <td>0.0</td>\n",
       "      <td>0.0</td>\n",
       "      <td>0.000000</td>\n",
       "      <td>0.0</td>\n",
       "      <td>0.000000</td>\n",
       "      <td>0</td>\n",
       "    </tr>\n",
       "    <tr>\n",
       "      <th>1441</th>\n",
       "      <td>0.015385</td>\n",
       "      <td>0.007692</td>\n",
       "      <td>0.023077</td>\n",
       "      <td>0.069231</td>\n",
       "      <td>0.007692</td>\n",
       "      <td>0.053846</td>\n",
       "      <td>0.038462</td>\n",
       "      <td>0.100000</td>\n",
       "      <td>0.115385</td>\n",
       "      <td>0.115385</td>\n",
       "      <td>...</td>\n",
       "      <td>0.000000</td>\n",
       "      <td>0.00000</td>\n",
       "      <td>0.0</td>\n",
       "      <td>0.0</td>\n",
       "      <td>0.0</td>\n",
       "      <td>0.0</td>\n",
       "      <td>0.000000</td>\n",
       "      <td>0.0</td>\n",
       "      <td>0.000000</td>\n",
       "      <td>0</td>\n",
       "    </tr>\n",
       "    <tr>\n",
       "      <th>1175</th>\n",
       "      <td>0.076923</td>\n",
       "      <td>0.010989</td>\n",
       "      <td>0.062271</td>\n",
       "      <td>0.047619</td>\n",
       "      <td>0.054945</td>\n",
       "      <td>0.042125</td>\n",
       "      <td>0.040293</td>\n",
       "      <td>0.045788</td>\n",
       "      <td>0.040293</td>\n",
       "      <td>0.108059</td>\n",
       "      <td>...</td>\n",
       "      <td>0.000000</td>\n",
       "      <td>0.00000</td>\n",
       "      <td>0.0</td>\n",
       "      <td>0.0</td>\n",
       "      <td>0.0</td>\n",
       "      <td>0.0</td>\n",
       "      <td>0.000000</td>\n",
       "      <td>0.0</td>\n",
       "      <td>0.000000</td>\n",
       "      <td>0</td>\n",
       "    </tr>\n",
       "    <tr>\n",
       "      <th>873</th>\n",
       "      <td>0.076923</td>\n",
       "      <td>0.006410</td>\n",
       "      <td>0.054487</td>\n",
       "      <td>0.067308</td>\n",
       "      <td>0.028846</td>\n",
       "      <td>0.089744</td>\n",
       "      <td>0.022436</td>\n",
       "      <td>0.089744</td>\n",
       "      <td>0.057692</td>\n",
       "      <td>0.073718</td>\n",
       "      <td>...</td>\n",
       "      <td>0.000000</td>\n",
       "      <td>0.00000</td>\n",
       "      <td>0.0</td>\n",
       "      <td>0.0</td>\n",
       "      <td>0.0</td>\n",
       "      <td>0.0</td>\n",
       "      <td>0.000000</td>\n",
       "      <td>0.0</td>\n",
       "      <td>0.000000</td>\n",
       "      <td>0</td>\n",
       "    </tr>\n",
       "    <tr>\n",
       "      <th>2760</th>\n",
       "      <td>0.061810</td>\n",
       "      <td>0.002208</td>\n",
       "      <td>0.066225</td>\n",
       "      <td>0.026490</td>\n",
       "      <td>0.039735</td>\n",
       "      <td>0.070640</td>\n",
       "      <td>0.008830</td>\n",
       "      <td>0.057395</td>\n",
       "      <td>0.077263</td>\n",
       "      <td>0.059603</td>\n",
       "      <td>...</td>\n",
       "      <td>0.002217</td>\n",
       "      <td>0.00000</td>\n",
       "      <td>0.0</td>\n",
       "      <td>0.0</td>\n",
       "      <td>0.0</td>\n",
       "      <td>0.0</td>\n",
       "      <td>0.002217</td>\n",
       "      <td>0.0</td>\n",
       "      <td>0.002217</td>\n",
       "      <td>0</td>\n",
       "    </tr>\n",
       "    <tr>\n",
       "      <th>...</th>\n",
       "      <td>...</td>\n",
       "      <td>...</td>\n",
       "      <td>...</td>\n",
       "      <td>...</td>\n",
       "      <td>...</td>\n",
       "      <td>...</td>\n",
       "      <td>...</td>\n",
       "      <td>...</td>\n",
       "      <td>...</td>\n",
       "      <td>...</td>\n",
       "      <td>...</td>\n",
       "      <td>...</td>\n",
       "      <td>...</td>\n",
       "      <td>...</td>\n",
       "      <td>...</td>\n",
       "      <td>...</td>\n",
       "      <td>...</td>\n",
       "      <td>...</td>\n",
       "      <td>...</td>\n",
       "      <td>...</td>\n",
       "      <td>...</td>\n",
       "    </tr>\n",
       "    <tr>\n",
       "      <th>2333</th>\n",
       "      <td>0.062323</td>\n",
       "      <td>0.005666</td>\n",
       "      <td>0.079320</td>\n",
       "      <td>0.082153</td>\n",
       "      <td>0.028329</td>\n",
       "      <td>0.073654</td>\n",
       "      <td>0.016997</td>\n",
       "      <td>0.073654</td>\n",
       "      <td>0.073654</td>\n",
       "      <td>0.087819</td>\n",
       "      <td>...</td>\n",
       "      <td>0.000000</td>\n",
       "      <td>0.00000</td>\n",
       "      <td>0.0</td>\n",
       "      <td>0.0</td>\n",
       "      <td>0.0</td>\n",
       "      <td>0.0</td>\n",
       "      <td>0.000000</td>\n",
       "      <td>0.0</td>\n",
       "      <td>0.000000</td>\n",
       "      <td>0</td>\n",
       "    </tr>\n",
       "    <tr>\n",
       "      <th>726</th>\n",
       "      <td>0.086331</td>\n",
       "      <td>0.007194</td>\n",
       "      <td>0.055156</td>\n",
       "      <td>0.047962</td>\n",
       "      <td>0.045564</td>\n",
       "      <td>0.103118</td>\n",
       "      <td>0.028777</td>\n",
       "      <td>0.028777</td>\n",
       "      <td>0.028777</td>\n",
       "      <td>0.095923</td>\n",
       "      <td>...</td>\n",
       "      <td>0.000000</td>\n",
       "      <td>0.00241</td>\n",
       "      <td>0.0</td>\n",
       "      <td>0.0</td>\n",
       "      <td>0.0</td>\n",
       "      <td>0.0</td>\n",
       "      <td>0.000000</td>\n",
       "      <td>0.0</td>\n",
       "      <td>0.000000</td>\n",
       "      <td>1</td>\n",
       "    </tr>\n",
       "    <tr>\n",
       "      <th>396</th>\n",
       "      <td>0.076023</td>\n",
       "      <td>0.026316</td>\n",
       "      <td>0.064327</td>\n",
       "      <td>0.052632</td>\n",
       "      <td>0.043860</td>\n",
       "      <td>0.064327</td>\n",
       "      <td>0.043860</td>\n",
       "      <td>0.067251</td>\n",
       "      <td>0.049708</td>\n",
       "      <td>0.087719</td>\n",
       "      <td>...</td>\n",
       "      <td>0.000000</td>\n",
       "      <td>0.00000</td>\n",
       "      <td>0.0</td>\n",
       "      <td>0.0</td>\n",
       "      <td>0.0</td>\n",
       "      <td>0.0</td>\n",
       "      <td>0.000000</td>\n",
       "      <td>0.0</td>\n",
       "      <td>0.000000</td>\n",
       "      <td>0</td>\n",
       "    </tr>\n",
       "    <tr>\n",
       "      <th>1279</th>\n",
       "      <td>0.087019</td>\n",
       "      <td>0.008559</td>\n",
       "      <td>0.045649</td>\n",
       "      <td>0.095578</td>\n",
       "      <td>0.029957</td>\n",
       "      <td>0.099857</td>\n",
       "      <td>0.009986</td>\n",
       "      <td>0.018545</td>\n",
       "      <td>0.038516</td>\n",
       "      <td>0.095578</td>\n",
       "      <td>...</td>\n",
       "      <td>0.000000</td>\n",
       "      <td>0.00000</td>\n",
       "      <td>0.0</td>\n",
       "      <td>0.0</td>\n",
       "      <td>0.0</td>\n",
       "      <td>0.0</td>\n",
       "      <td>0.000000</td>\n",
       "      <td>0.0</td>\n",
       "      <td>0.000000</td>\n",
       "      <td>0</td>\n",
       "    </tr>\n",
       "    <tr>\n",
       "      <th>1846</th>\n",
       "      <td>0.128535</td>\n",
       "      <td>0.012853</td>\n",
       "      <td>0.048843</td>\n",
       "      <td>0.069409</td>\n",
       "      <td>0.038560</td>\n",
       "      <td>0.095116</td>\n",
       "      <td>0.010283</td>\n",
       "      <td>0.048843</td>\n",
       "      <td>0.061697</td>\n",
       "      <td>0.082262</td>\n",
       "      <td>...</td>\n",
       "      <td>0.000000</td>\n",
       "      <td>0.00000</td>\n",
       "      <td>0.0</td>\n",
       "      <td>0.0</td>\n",
       "      <td>0.0</td>\n",
       "      <td>0.0</td>\n",
       "      <td>0.000000</td>\n",
       "      <td>0.0</td>\n",
       "      <td>0.000000</td>\n",
       "      <td>0</td>\n",
       "    </tr>\n",
       "  </tbody>\n",
       "</table>\n",
       "<p>2041 rows × 8975 columns</p>\n",
       "</div>"
      ],
      "text/plain": [
       "             A         C         D         E         F         G         H  \\\n",
       "705   0.087227  0.012461  0.068536  0.093458  0.028037  0.084112  0.009346   \n",
       "1441  0.015385  0.007692  0.023077  0.069231  0.007692  0.053846  0.038462   \n",
       "1175  0.076923  0.010989  0.062271  0.047619  0.054945  0.042125  0.040293   \n",
       "873   0.076923  0.006410  0.054487  0.067308  0.028846  0.089744  0.022436   \n",
       "2760  0.061810  0.002208  0.066225  0.026490  0.039735  0.070640  0.008830   \n",
       "...        ...       ...       ...       ...       ...       ...       ...   \n",
       "2333  0.062323  0.005666  0.079320  0.082153  0.028329  0.073654  0.016997   \n",
       "726   0.086331  0.007194  0.055156  0.047962  0.045564  0.103118  0.028777   \n",
       "396   0.076023  0.026316  0.064327  0.052632  0.043860  0.064327  0.043860   \n",
       "1279  0.087019  0.008559  0.045649  0.095578  0.029957  0.099857  0.009986   \n",
       "1846  0.128535  0.012853  0.048843  0.069409  0.038560  0.095116  0.010283   \n",
       "\n",
       "             I         K         L  ...       YYN      YYP  YYQ  YYR  YYS  \\\n",
       "705   0.087227  0.031153  0.074766  ...  0.000000  0.00000  0.0  0.0  0.0   \n",
       "1441  0.100000  0.115385  0.115385  ...  0.000000  0.00000  0.0  0.0  0.0   \n",
       "1175  0.045788  0.040293  0.108059  ...  0.000000  0.00000  0.0  0.0  0.0   \n",
       "873   0.089744  0.057692  0.073718  ...  0.000000  0.00000  0.0  0.0  0.0   \n",
       "2760  0.057395  0.077263  0.059603  ...  0.002217  0.00000  0.0  0.0  0.0   \n",
       "...        ...       ...       ...  ...       ...      ...  ...  ...  ...   \n",
       "2333  0.073654  0.073654  0.087819  ...  0.000000  0.00000  0.0  0.0  0.0   \n",
       "726   0.028777  0.028777  0.095923  ...  0.000000  0.00241  0.0  0.0  0.0   \n",
       "396   0.067251  0.049708  0.087719  ...  0.000000  0.00000  0.0  0.0  0.0   \n",
       "1279  0.018545  0.038516  0.095578  ...  0.000000  0.00000  0.0  0.0  0.0   \n",
       "1846  0.048843  0.061697  0.082262  ...  0.000000  0.00000  0.0  0.0  0.0   \n",
       "\n",
       "      YYT       YYV  YYW       YYY  range  \n",
       "705   0.0  0.000000  0.0  0.000000      0  \n",
       "1441  0.0  0.000000  0.0  0.000000      0  \n",
       "1175  0.0  0.000000  0.0  0.000000      0  \n",
       "873   0.0  0.000000  0.0  0.000000      0  \n",
       "2760  0.0  0.002217  0.0  0.002217      0  \n",
       "...   ...       ...  ...       ...    ...  \n",
       "2333  0.0  0.000000  0.0  0.000000      0  \n",
       "726   0.0  0.000000  0.0  0.000000      1  \n",
       "396   0.0  0.000000  0.0  0.000000      0  \n",
       "1279  0.0  0.000000  0.0  0.000000      0  \n",
       "1846  0.0  0.000000  0.0  0.000000      0  \n",
       "\n",
       "[2041 rows x 8975 columns]"
      ]
     },
     "execution_count": 33,
     "metadata": {},
     "output_type": "execute_result"
    }
   ],
   "source": [
    "train"
   ]
  },
  {
   "attachments": {},
   "cell_type": "markdown",
   "metadata": {},
   "source": [
    "#### OVERSAMPLING"
   ]
  },
  {
   "cell_type": "code",
   "execution_count": 58,
   "metadata": {},
   "outputs": [
    {
     "name": "stdout",
     "output_type": "stream",
     "text": [
      "[0]\tvalidation_0-auc:0.71874\tvalidation_1-auc:0.55396\n",
      "[1]\tvalidation_0-auc:0.79068\tvalidation_1-auc:0.56358\n",
      "[2]\tvalidation_0-auc:0.82065\tvalidation_1-auc:0.56878\n",
      "[3]\tvalidation_0-auc:0.84891\tvalidation_1-auc:0.56839\n",
      "[4]\tvalidation_0-auc:0.87963\tvalidation_1-auc:0.56831\n",
      "[5]\tvalidation_0-auc:0.90031\tvalidation_1-auc:0.58153\n",
      "[6]\tvalidation_0-auc:0.90727\tvalidation_1-auc:0.57492\n",
      "[7]\tvalidation_0-auc:0.91669\tvalidation_1-auc:0.56163\n",
      "[8]\tvalidation_0-auc:0.92344\tvalidation_1-auc:0.56474\n",
      "[9]\tvalidation_0-auc:0.93164\tvalidation_1-auc:0.55125\n",
      "[10]\tvalidation_0-auc:0.93158\tvalidation_1-auc:0.57434\n",
      "[11]\tvalidation_0-auc:0.93202\tvalidation_1-auc:0.59113\n",
      "[12]\tvalidation_0-auc:0.93378\tvalidation_1-auc:0.58674\n",
      "[13]\tvalidation_0-auc:0.94349\tvalidation_1-auc:0.59303\n",
      "[14]\tvalidation_0-auc:0.94633\tvalidation_1-auc:0.60509\n",
      "[15]\tvalidation_0-auc:0.94441\tvalidation_1-auc:0.60764\n",
      "[16]\tvalidation_0-auc:0.95147\tvalidation_1-auc:0.60156\n",
      "[17]\tvalidation_0-auc:0.95565\tvalidation_1-auc:0.61975\n",
      "[18]\tvalidation_0-auc:0.95829\tvalidation_1-auc:0.61779\n",
      "[19]\tvalidation_0-auc:0.95880\tvalidation_1-auc:0.62681\n",
      "[20]\tvalidation_0-auc:0.96179\tvalidation_1-auc:0.62581\n",
      "[21]\tvalidation_0-auc:0.96722\tvalidation_1-auc:0.62396\n",
      "[22]\tvalidation_0-auc:0.97100\tvalidation_1-auc:0.62487\n",
      "[23]\tvalidation_0-auc:0.97247\tvalidation_1-auc:0.63211\n",
      "[24]\tvalidation_0-auc:0.97271\tvalidation_1-auc:0.64052\n",
      "[25]\tvalidation_0-auc:0.97464\tvalidation_1-auc:0.63762\n",
      "[26]\tvalidation_0-auc:0.97746\tvalidation_1-auc:0.64353\n",
      "[27]\tvalidation_0-auc:0.97809\tvalidation_1-auc:0.65455\n",
      "[28]\tvalidation_0-auc:0.97802\tvalidation_1-auc:0.65489\n",
      "[29]\tvalidation_0-auc:0.97789\tvalidation_1-auc:0.64644\n",
      "[30]\tvalidation_0-auc:0.97948\tvalidation_1-auc:0.65470\n",
      "[31]\tvalidation_0-auc:0.98209\tvalidation_1-auc:0.65634\n",
      "[32]\tvalidation_0-auc:0.98305\tvalidation_1-auc:0.65454\n",
      "[33]\tvalidation_0-auc:0.98306\tvalidation_1-auc:0.65210\n",
      "[34]\tvalidation_0-auc:0.98430\tvalidation_1-auc:0.65112\n",
      "[35]\tvalidation_0-auc:0.98427\tvalidation_1-auc:0.65062\n",
      "[36]\tvalidation_0-auc:0.98578\tvalidation_1-auc:0.65382\n",
      "[37]\tvalidation_0-auc:0.98678\tvalidation_1-auc:0.65857\n",
      "[38]\tvalidation_0-auc:0.98854\tvalidation_1-auc:0.65957\n",
      "[39]\tvalidation_0-auc:0.98861\tvalidation_1-auc:0.66206\n",
      "[40]\tvalidation_0-auc:0.98912\tvalidation_1-auc:0.66482\n",
      "[41]\tvalidation_0-auc:0.99009\tvalidation_1-auc:0.66983\n",
      "[42]\tvalidation_0-auc:0.99064\tvalidation_1-auc:0.67428\n",
      "[43]\tvalidation_0-auc:0.99086\tvalidation_1-auc:0.67601\n",
      "[44]\tvalidation_0-auc:0.99068\tvalidation_1-auc:0.67124\n",
      "[45]\tvalidation_0-auc:0.99072\tvalidation_1-auc:0.66739\n",
      "[46]\tvalidation_0-auc:0.98988\tvalidation_1-auc:0.67011\n",
      "[47]\tvalidation_0-auc:0.99045\tvalidation_1-auc:0.66824\n",
      "[48]\tvalidation_0-auc:0.99166\tvalidation_1-auc:0.66304\n",
      "[49]\tvalidation_0-auc:0.99188\tvalidation_1-auc:0.66348\n",
      "[50]\tvalidation_0-auc:0.99262\tvalidation_1-auc:0.66653\n",
      "[51]\tvalidation_0-auc:0.99288\tvalidation_1-auc:0.66738\n",
      "[52]\tvalidation_0-auc:0.99315\tvalidation_1-auc:0.66970\n",
      "[53]\tvalidation_0-auc:0.99351\tvalidation_1-auc:0.66339\n"
     ]
    }
   ],
   "source": [
    "auc_metric = []\n",
    "\n",
    "from imblearn.combine import SMOTEENN\n",
    "for i in range(1):\n",
    "    train, test = scsplit(input_d, stratify = input_d[\"range\"],test_size = 0.3,\n",
    "                                             train_size = 0.7, random_state = 0)\n",
    "    \n",
    "    # X, y = train.drop(\"range\", axis = 1),train[\"range\"]\n",
    "    # y = LabelEncoder().fit_transform(y)\n",
    "    # oversample = SMOTE()\n",
    "    # X, y = oversample.fit_resample(X, y)\n",
    "\n",
    "    # data_model = pd.DataFrame(X)\n",
    "    # data_model[\"range\"] = y\n",
    "\n",
    "    # X_validate = test\n",
    "    # data_val = pd.DataFrame(X_validate)\n",
    "    # data_val[\"range\"] = test[\"range\"]\n",
    "\n",
    "    # data_model_f = data_model\n",
    "    # data_xgb = data_model_f.drop([\"range\"], axis = 1)\n",
    "    # data_xgb_y = data_model_f[\"range\"] \n",
    "\n",
    "    # data_val_f = data_val.drop([\"range\"], axis = 1)\n",
    "    # data_val_end = data_val[\"range\"]\n",
    "\n",
    "\n",
    "    data_xgb = train.drop([\"range\"], axis = 1)\n",
    "    data_xgb_y = train[\"range\"]\n",
    "    data_val_f = test.drop([\"range\"], axis = 1)\n",
    "    data_val_end = test[\"range\"]\n",
    "\n",
    "    model = xgb.XGBClassifier(\n",
    "                         num_parallel_tree = 1,\n",
    "                         max_depth = 8,\n",
    "                         learning_rate = 0.05,\n",
    "                         verbosity = 1,\n",
    "                         booster = 'gbtree',\n",
    "                         tree_method = 'auto',\n",
    "                         eval_metric= ['auc'],\n",
    "                         n_jobs = -1,\n",
    "                         subsample = 0.3,\n",
    "                         sampling_method ='uniform',\n",
    "                         colsample_bytree = 0.3,\n",
    "                         objective ='binary:logistic',\n",
    "                         scale_pos_weight = 10\n",
    "                        )\n",
    "    \n",
    "    model.fit(data_xgb,data_xgb_y,eval_set=[(data_xgb, data_xgb_y),(data_val_f,data_val_end)],early_stopping_rounds=10)\n",
    "\n",
    "    auc_scr = roc_auc_score(data_val_end,model.predict(data_val_f))\n",
    "    auc_metric.append(auc_scr)\n",
    "    "
   ]
  },
  {
   "cell_type": "code",
   "execution_count": 38,
   "metadata": {},
   "outputs": [
    {
     "data": {
      "text/plain": [
       "array([[0.7648435 , 0.23515648],\n",
       "       [0.65394074, 0.34605926],\n",
       "       [0.78577965, 0.21422036],\n",
       "       ...,\n",
       "       [0.6189655 , 0.38103446],\n",
       "       [0.7911621 , 0.20883791],\n",
       "       [0.6216402 , 0.3783598 ]], dtype=float32)"
      ]
     },
     "execution_count": 38,
     "metadata": {},
     "output_type": "execute_result"
    }
   ],
   "source": [
    "model.predict_proba(data_val_f)"
   ]
  },
  {
   "attachments": {},
   "cell_type": "markdown",
   "metadata": {},
   "source": []
  },
  {
   "cell_type": "code",
   "execution_count": 43,
   "metadata": {},
   "outputs": [],
   "source": [
    "explainer = shap.Explainer(model, data_xgb)\n",
    "shap_values = explainer(data_xgb)"
   ]
  },
  {
   "cell_type": "code",
   "execution_count": 44,
   "metadata": {},
   "outputs": [],
   "source": [
    "explainer = shap.TreeExplainer(model)\n",
    "shap_values = explainer.shap_values(data_xgb)"
   ]
  },
  {
   "cell_type": "code",
   "execution_count": 45,
   "metadata": {},
   "outputs": [],
   "source": [
    "X100 = shap.utils.sample(data_xgb, 500)\n",
    "explainer_xgb = shap.Explainer(model, X100)\n",
    "shap_values_xgb = explainer_xgb(data_xgb)"
   ]
  },
  {
   "cell_type": "code",
   "execution_count": 46,
   "metadata": {},
   "outputs": [
    {
     "data": {
      "text/html": [
       "<div>\n",
       "<style scoped>\n",
       "    .dataframe tbody tr th:only-of-type {\n",
       "        vertical-align: middle;\n",
       "    }\n",
       "\n",
       "    .dataframe tbody tr th {\n",
       "        vertical-align: top;\n",
       "    }\n",
       "\n",
       "    .dataframe thead th {\n",
       "        text-align: right;\n",
       "    }\n",
       "</style>\n",
       "<table border=\"1\" class=\"dataframe\">\n",
       "  <thead>\n",
       "    <tr style=\"text-align: right;\">\n",
       "      <th></th>\n",
       "      <th>A</th>\n",
       "      <th>C</th>\n",
       "      <th>D</th>\n",
       "      <th>E</th>\n",
       "      <th>F</th>\n",
       "      <th>G</th>\n",
       "      <th>H</th>\n",
       "      <th>I</th>\n",
       "      <th>K</th>\n",
       "      <th>L</th>\n",
       "      <th>...</th>\n",
       "      <th>YYM</th>\n",
       "      <th>YYN</th>\n",
       "      <th>YYP</th>\n",
       "      <th>YYQ</th>\n",
       "      <th>YYR</th>\n",
       "      <th>YYS</th>\n",
       "      <th>YYT</th>\n",
       "      <th>YYV</th>\n",
       "      <th>YYW</th>\n",
       "      <th>YYY</th>\n",
       "    </tr>\n",
       "  </thead>\n",
       "  <tbody>\n",
       "    <tr>\n",
       "      <th>2116</th>\n",
       "      <td>0.148551</td>\n",
       "      <td>0.021739</td>\n",
       "      <td>0.050725</td>\n",
       "      <td>0.076087</td>\n",
       "      <td>0.039855</td>\n",
       "      <td>0.097826</td>\n",
       "      <td>0.007246</td>\n",
       "      <td>0.054348</td>\n",
       "      <td>0.068841</td>\n",
       "      <td>0.043478</td>\n",
       "      <td>...</td>\n",
       "      <td>0.000000</td>\n",
       "      <td>0.0</td>\n",
       "      <td>0.0</td>\n",
       "      <td>0.0</td>\n",
       "      <td>0.000000</td>\n",
       "      <td>0.0</td>\n",
       "      <td>0.000000</td>\n",
       "      <td>0.0</td>\n",
       "      <td>0.0</td>\n",
       "      <td>0.000000</td>\n",
       "    </tr>\n",
       "    <tr>\n",
       "      <th>1179</th>\n",
       "      <td>0.075556</td>\n",
       "      <td>0.000000</td>\n",
       "      <td>0.044444</td>\n",
       "      <td>0.084444</td>\n",
       "      <td>0.022222</td>\n",
       "      <td>0.106667</td>\n",
       "      <td>0.004444</td>\n",
       "      <td>0.053333</td>\n",
       "      <td>0.035556</td>\n",
       "      <td>0.088889</td>\n",
       "      <td>...</td>\n",
       "      <td>0.000000</td>\n",
       "      <td>0.0</td>\n",
       "      <td>0.0</td>\n",
       "      <td>0.0</td>\n",
       "      <td>0.000000</td>\n",
       "      <td>0.0</td>\n",
       "      <td>0.000000</td>\n",
       "      <td>0.0</td>\n",
       "      <td>0.0</td>\n",
       "      <td>0.000000</td>\n",
       "    </tr>\n",
       "    <tr>\n",
       "      <th>938</th>\n",
       "      <td>0.073930</td>\n",
       "      <td>0.017510</td>\n",
       "      <td>0.064202</td>\n",
       "      <td>0.073930</td>\n",
       "      <td>0.064202</td>\n",
       "      <td>0.066148</td>\n",
       "      <td>0.036965</td>\n",
       "      <td>0.029183</td>\n",
       "      <td>0.066148</td>\n",
       "      <td>0.062257</td>\n",
       "      <td>...</td>\n",
       "      <td>0.000000</td>\n",
       "      <td>0.0</td>\n",
       "      <td>0.0</td>\n",
       "      <td>0.0</td>\n",
       "      <td>0.001953</td>\n",
       "      <td>0.0</td>\n",
       "      <td>0.000000</td>\n",
       "      <td>0.0</td>\n",
       "      <td>0.0</td>\n",
       "      <td>0.000000</td>\n",
       "    </tr>\n",
       "    <tr>\n",
       "      <th>992</th>\n",
       "      <td>0.079570</td>\n",
       "      <td>0.021505</td>\n",
       "      <td>0.055914</td>\n",
       "      <td>0.058065</td>\n",
       "      <td>0.034409</td>\n",
       "      <td>0.060215</td>\n",
       "      <td>0.025806</td>\n",
       "      <td>0.045161</td>\n",
       "      <td>0.055914</td>\n",
       "      <td>0.139785</td>\n",
       "      <td>...</td>\n",
       "      <td>0.000000</td>\n",
       "      <td>0.0</td>\n",
       "      <td>0.0</td>\n",
       "      <td>0.0</td>\n",
       "      <td>0.000000</td>\n",
       "      <td>0.0</td>\n",
       "      <td>0.000000</td>\n",
       "      <td>0.0</td>\n",
       "      <td>0.0</td>\n",
       "      <td>0.000000</td>\n",
       "    </tr>\n",
       "    <tr>\n",
       "      <th>237</th>\n",
       "      <td>0.052265</td>\n",
       "      <td>0.003484</td>\n",
       "      <td>0.062718</td>\n",
       "      <td>0.073171</td>\n",
       "      <td>0.062718</td>\n",
       "      <td>0.080139</td>\n",
       "      <td>0.034843</td>\n",
       "      <td>0.080139</td>\n",
       "      <td>0.066202</td>\n",
       "      <td>0.055749</td>\n",
       "      <td>...</td>\n",
       "      <td>0.000000</td>\n",
       "      <td>0.0</td>\n",
       "      <td>0.0</td>\n",
       "      <td>0.0</td>\n",
       "      <td>0.000000</td>\n",
       "      <td>0.0</td>\n",
       "      <td>0.000000</td>\n",
       "      <td>0.0</td>\n",
       "      <td>0.0</td>\n",
       "      <td>0.000000</td>\n",
       "    </tr>\n",
       "    <tr>\n",
       "      <th>...</th>\n",
       "      <td>...</td>\n",
       "      <td>...</td>\n",
       "      <td>...</td>\n",
       "      <td>...</td>\n",
       "      <td>...</td>\n",
       "      <td>...</td>\n",
       "      <td>...</td>\n",
       "      <td>...</td>\n",
       "      <td>...</td>\n",
       "      <td>...</td>\n",
       "      <td>...</td>\n",
       "      <td>...</td>\n",
       "      <td>...</td>\n",
       "      <td>...</td>\n",
       "      <td>...</td>\n",
       "      <td>...</td>\n",
       "      <td>...</td>\n",
       "      <td>...</td>\n",
       "      <td>...</td>\n",
       "      <td>...</td>\n",
       "      <td>...</td>\n",
       "    </tr>\n",
       "    <tr>\n",
       "      <th>1966</th>\n",
       "      <td>0.092632</td>\n",
       "      <td>0.004211</td>\n",
       "      <td>0.092632</td>\n",
       "      <td>0.071579</td>\n",
       "      <td>0.042105</td>\n",
       "      <td>0.029474</td>\n",
       "      <td>0.023158</td>\n",
       "      <td>0.052632</td>\n",
       "      <td>0.082105</td>\n",
       "      <td>0.092632</td>\n",
       "      <td>...</td>\n",
       "      <td>0.000000</td>\n",
       "      <td>0.0</td>\n",
       "      <td>0.0</td>\n",
       "      <td>0.0</td>\n",
       "      <td>0.000000</td>\n",
       "      <td>0.0</td>\n",
       "      <td>0.000000</td>\n",
       "      <td>0.0</td>\n",
       "      <td>0.0</td>\n",
       "      <td>0.000000</td>\n",
       "    </tr>\n",
       "    <tr>\n",
       "      <th>325</th>\n",
       "      <td>0.087500</td>\n",
       "      <td>0.018750</td>\n",
       "      <td>0.056250</td>\n",
       "      <td>0.012500</td>\n",
       "      <td>0.040625</td>\n",
       "      <td>0.131250</td>\n",
       "      <td>0.021875</td>\n",
       "      <td>0.043750</td>\n",
       "      <td>0.025000</td>\n",
       "      <td>0.046875</td>\n",
       "      <td>...</td>\n",
       "      <td>0.003145</td>\n",
       "      <td>0.0</td>\n",
       "      <td>0.0</td>\n",
       "      <td>0.0</td>\n",
       "      <td>0.000000</td>\n",
       "      <td>0.0</td>\n",
       "      <td>0.003145</td>\n",
       "      <td>0.0</td>\n",
       "      <td>0.0</td>\n",
       "      <td>0.003145</td>\n",
       "    </tr>\n",
       "    <tr>\n",
       "      <th>1371</th>\n",
       "      <td>0.128731</td>\n",
       "      <td>0.000000</td>\n",
       "      <td>0.061567</td>\n",
       "      <td>0.048507</td>\n",
       "      <td>0.039179</td>\n",
       "      <td>0.102612</td>\n",
       "      <td>0.013060</td>\n",
       "      <td>0.035448</td>\n",
       "      <td>0.067164</td>\n",
       "      <td>0.085821</td>\n",
       "      <td>...</td>\n",
       "      <td>0.000000</td>\n",
       "      <td>0.0</td>\n",
       "      <td>0.0</td>\n",
       "      <td>0.0</td>\n",
       "      <td>0.000000</td>\n",
       "      <td>0.0</td>\n",
       "      <td>0.000000</td>\n",
       "      <td>0.0</td>\n",
       "      <td>0.0</td>\n",
       "      <td>0.000000</td>\n",
       "    </tr>\n",
       "    <tr>\n",
       "      <th>1800</th>\n",
       "      <td>0.087719</td>\n",
       "      <td>0.017544</td>\n",
       "      <td>0.064327</td>\n",
       "      <td>0.073099</td>\n",
       "      <td>0.040936</td>\n",
       "      <td>0.096491</td>\n",
       "      <td>0.032164</td>\n",
       "      <td>0.087719</td>\n",
       "      <td>0.049708</td>\n",
       "      <td>0.061404</td>\n",
       "      <td>...</td>\n",
       "      <td>0.000000</td>\n",
       "      <td>0.0</td>\n",
       "      <td>0.0</td>\n",
       "      <td>0.0</td>\n",
       "      <td>0.000000</td>\n",
       "      <td>0.0</td>\n",
       "      <td>0.000000</td>\n",
       "      <td>0.0</td>\n",
       "      <td>0.0</td>\n",
       "      <td>0.000000</td>\n",
       "    </tr>\n",
       "    <tr>\n",
       "      <th>2447</th>\n",
       "      <td>0.059701</td>\n",
       "      <td>0.016584</td>\n",
       "      <td>0.053068</td>\n",
       "      <td>0.104478</td>\n",
       "      <td>0.066335</td>\n",
       "      <td>0.069652</td>\n",
       "      <td>0.018242</td>\n",
       "      <td>0.051410</td>\n",
       "      <td>0.058043</td>\n",
       "      <td>0.072968</td>\n",
       "      <td>...</td>\n",
       "      <td>0.000000</td>\n",
       "      <td>0.0</td>\n",
       "      <td>0.0</td>\n",
       "      <td>0.0</td>\n",
       "      <td>0.000000</td>\n",
       "      <td>0.0</td>\n",
       "      <td>0.000000</td>\n",
       "      <td>0.0</td>\n",
       "      <td>0.0</td>\n",
       "      <td>0.000000</td>\n",
       "    </tr>\n",
       "  </tbody>\n",
       "</table>\n",
       "<p>2041 rows × 8974 columns</p>\n",
       "</div>"
      ],
      "text/plain": [
       "             A         C         D         E         F         G         H  \\\n",
       "2116  0.148551  0.021739  0.050725  0.076087  0.039855  0.097826  0.007246   \n",
       "1179  0.075556  0.000000  0.044444  0.084444  0.022222  0.106667  0.004444   \n",
       "938   0.073930  0.017510  0.064202  0.073930  0.064202  0.066148  0.036965   \n",
       "992   0.079570  0.021505  0.055914  0.058065  0.034409  0.060215  0.025806   \n",
       "237   0.052265  0.003484  0.062718  0.073171  0.062718  0.080139  0.034843   \n",
       "...        ...       ...       ...       ...       ...       ...       ...   \n",
       "1966  0.092632  0.004211  0.092632  0.071579  0.042105  0.029474  0.023158   \n",
       "325   0.087500  0.018750  0.056250  0.012500  0.040625  0.131250  0.021875   \n",
       "1371  0.128731  0.000000  0.061567  0.048507  0.039179  0.102612  0.013060   \n",
       "1800  0.087719  0.017544  0.064327  0.073099  0.040936  0.096491  0.032164   \n",
       "2447  0.059701  0.016584  0.053068  0.104478  0.066335  0.069652  0.018242   \n",
       "\n",
       "             I         K         L  ...       YYM  YYN  YYP  YYQ       YYR  \\\n",
       "2116  0.054348  0.068841  0.043478  ...  0.000000  0.0  0.0  0.0  0.000000   \n",
       "1179  0.053333  0.035556  0.088889  ...  0.000000  0.0  0.0  0.0  0.000000   \n",
       "938   0.029183  0.066148  0.062257  ...  0.000000  0.0  0.0  0.0  0.001953   \n",
       "992   0.045161  0.055914  0.139785  ...  0.000000  0.0  0.0  0.0  0.000000   \n",
       "237   0.080139  0.066202  0.055749  ...  0.000000  0.0  0.0  0.0  0.000000   \n",
       "...        ...       ...       ...  ...       ...  ...  ...  ...       ...   \n",
       "1966  0.052632  0.082105  0.092632  ...  0.000000  0.0  0.0  0.0  0.000000   \n",
       "325   0.043750  0.025000  0.046875  ...  0.003145  0.0  0.0  0.0  0.000000   \n",
       "1371  0.035448  0.067164  0.085821  ...  0.000000  0.0  0.0  0.0  0.000000   \n",
       "1800  0.087719  0.049708  0.061404  ...  0.000000  0.0  0.0  0.0  0.000000   \n",
       "2447  0.051410  0.058043  0.072968  ...  0.000000  0.0  0.0  0.0  0.000000   \n",
       "\n",
       "      YYS       YYT  YYV  YYW       YYY  \n",
       "2116  0.0  0.000000  0.0  0.0  0.000000  \n",
       "1179  0.0  0.000000  0.0  0.0  0.000000  \n",
       "938   0.0  0.000000  0.0  0.0  0.000000  \n",
       "992   0.0  0.000000  0.0  0.0  0.000000  \n",
       "237   0.0  0.000000  0.0  0.0  0.000000  \n",
       "...   ...       ...  ...  ...       ...  \n",
       "1966  0.0  0.000000  0.0  0.0  0.000000  \n",
       "325   0.0  0.003145  0.0  0.0  0.003145  \n",
       "1371  0.0  0.000000  0.0  0.0  0.000000  \n",
       "1800  0.0  0.000000  0.0  0.0  0.000000  \n",
       "2447  0.0  0.000000  0.0  0.0  0.000000  \n",
       "\n",
       "[2041 rows x 8974 columns]"
      ]
     },
     "execution_count": 46,
     "metadata": {},
     "output_type": "execute_result"
    }
   ],
   "source": [
    "data_xgb"
   ]
  },
  {
   "cell_type": "code",
   "execution_count": 51,
   "metadata": {},
   "outputs": [
    {
     "data": {
      "image/png": "[encoded data removed]",
      "text/plain": [
       "<Figure size 800x1350 with 2 Axes>"
      ]
     },
     "metadata": {},
     "output_type": "display_data"
    }
   ],
   "source": [
    "shap.summary_plot(shap_values, data_xgb, max_display = 30)"
   ]
  },
  {
   "cell_type": "code",
   "execution_count": 50,
   "metadata": {},
   "outputs": [
    {
     "data": {
      "image/png": "[encoded data removed]",
      "text/plain": [
       "<Figure size 640x480 with 1 Axes>"
      ]
     },
     "metadata": {},
     "output_type": "display_data"
    }
   ],
   "source": [
    "import scikitplot as skplt\n",
    "skplt.metrics.plot_roc_curve(data_val_end,model.predict_proba(data_val_f))\n",
    "plt.show()"
   ]
  },
  {
   "cell_type": "code",
   "execution_count": 17,
   "metadata": {},
   "outputs": [
    {
     "data": {
      "text/plain": [
       "0.8314715671117078"
      ]
     },
     "execution_count": 17,
     "metadata": {},
     "output_type": "execute_result"
    }
   ],
   "source": [
    "auc_scr = roc_auc_score(data_val_end,model.predict_proba(data_val_f), multi_class='ovr')\n",
    "auc_scr"
   ]
  },
  {
   "cell_type": "code",
   "execution_count": 59,
   "metadata": {},
   "outputs": [
    {
     "data": {
      "image/png": "[encoded data removed]",
      "text/plain": [
       "<Figure size 800x600 with 2 Axes>"
      ]
     },
     "metadata": {},
     "output_type": "display_data"
    },
    {
     "data": {
      "text/html": [
       "<style>#sk-container-id-2 {color: black;background-color: white;}#sk-container-id-2 pre{padding: 0;}#sk-container-id-2 div.sk-toggleable {background-color: white;}#sk-container-id-2 label.sk-toggleable__label {cursor: pointer;display: block;width: 100%;margin-bottom: 0;padding: 0.3em;box-sizing: border-box;text-align: center;}#sk-container-id-2 label.sk-toggleable__label-arrow:before {content: \"▸\";float: left;margin-right: 0.25em;color: #696969;}#sk-container-id-2 label.sk-toggleable__label-arrow:hover:before {color: black;}#sk-container-id-2 div.sk-estimator:hover label.sk-toggleable__label-arrow:before {color: black;}#sk-container-id-2 div.sk-toggleable__content {max-height: 0;max-width: 0;overflow: hidden;text-align: left;background-color: #f0f8ff;}#sk-container-id-2 div.sk-toggleable__content pre {margin: 0.2em;color: black;border-radius: 0.25em;background-color: #f0f8ff;}#sk-container-id-2 input.sk-toggleable__control:checked~div.sk-toggleable__content {max-height: 200px;max-width: 100%;overflow: auto;}#sk-container-id-2 input.sk-toggleable__control:checked~label.sk-toggleable__label-arrow:before {content: \"▾\";}#sk-container-id-2 div.sk-estimator input.sk-toggleable__control:checked~label.sk-toggleable__label {background-color: #d4ebff;}#sk-container-id-2 div.sk-label input.sk-toggleable__control:checked~label.sk-toggleable__label {background-color: #d4ebff;}#sk-container-id-2 input.sk-hidden--visually {border: 0;clip: rect(1px 1px 1px 1px);clip: rect(1px, 1px, 1px, 1px);height: 1px;margin: -1px;overflow: hidden;padding: 0;position: absolute;width: 1px;}#sk-container-id-2 div.sk-estimator {font-family: monospace;background-color: #f0f8ff;border: 1px dotted black;border-radius: 0.25em;box-sizing: border-box;margin-bottom: 0.5em;}#sk-container-id-2 div.sk-estimator:hover {background-color: #d4ebff;}#sk-container-id-2 div.sk-parallel-item::after {content: \"\";width: 100%;border-bottom: 1px solid gray;flex-grow: 1;}#sk-container-id-2 div.sk-label:hover label.sk-toggleable__label {background-color: #d4ebff;}#sk-container-id-2 div.sk-serial::before {content: \"\";position: absolute;border-left: 1px solid gray;box-sizing: border-box;top: 0;bottom: 0;left: 50%;z-index: 0;}#sk-container-id-2 div.sk-serial {display: flex;flex-direction: column;align-items: center;background-color: white;padding-right: 0.2em;padding-left: 0.2em;position: relative;}#sk-container-id-2 div.sk-item {position: relative;z-index: 1;}#sk-container-id-2 div.sk-parallel {display: flex;align-items: stretch;justify-content: center;background-color: white;position: relative;}#sk-container-id-2 div.sk-item::before, #sk-container-id-2 div.sk-parallel-item::before {content: \"\";position: absolute;border-left: 1px solid gray;box-sizing: border-box;top: 0;bottom: 0;left: 50%;z-index: -1;}#sk-container-id-2 div.sk-parallel-item {display: flex;flex-direction: column;z-index: 1;position: relative;background-color: white;}#sk-container-id-2 div.sk-parallel-item:first-child::after {align-self: flex-end;width: 50%;}#sk-container-id-2 div.sk-parallel-item:last-child::after {align-self: flex-start;width: 50%;}#sk-container-id-2 div.sk-parallel-item:only-child::after {width: 0;}#sk-container-id-2 div.sk-dashed-wrapped {border: 1px dashed gray;margin: 0 0.4em 0.5em 0.4em;box-sizing: border-box;padding-bottom: 0.4em;background-color: white;}#sk-container-id-2 div.sk-label label {font-family: monospace;font-weight: bold;display: inline-block;line-height: 1.2em;}#sk-container-id-2 div.sk-label-container {text-align: center;}#sk-container-id-2 div.sk-container {/* jupyter's `normalize.less` sets `[hidden] { display: none; }` but bootstrap.min.css set `[hidden] { display: none !important; }` so we also need the `!important` here to be able to override the default hidden behavior on the sphinx rendered scikit-learn.org. See: https://github.com/scikit-learn/scikit-learn/issues/21755 */display: inline-block !important;position: relative;}#sk-container-id-2 div.sk-text-repr-fallback {display: none;}</style><div id=\"sk-container-id-2\" class=\"sk-top-container\"><div class=\"sk-text-repr-fallback\"><pre>ClassificationReport(ax=&lt;AxesSubplot: title={&#x27;center&#x27;: &#x27;XGBClassifier Classification Report&#x27;}&gt;,\n",
       "                     cmap=&lt;matplotlib.colors.ListedColormap object at 0x00000202A9065490&gt;,\n",
       "                     estimator=XGBClassifier(base_score=0.5, booster=&#x27;gbtree&#x27;,\n",
       "                                             callbacks=None,\n",
       "                                             colsample_bylevel=1,\n",
       "                                             colsample_bynode=1,\n",
       "                                             colsample_bytree=0.3,\n",
       "                                             early_stopping_rounds=None,\n",
       "                                             enable_categorical=False,\n",
       "                                             eval_metri...\n",
       "                                             gpu_id=-1, grow_policy=&#x27;depthwise&#x27;,\n",
       "                                             importance_type=None,\n",
       "                                             interaction_constraints=&#x27;&#x27;,\n",
       "                                             learning_rate=0.05, max_bin=256,\n",
       "                                             max_cat_threshold=64,\n",
       "                                             max_cat_to_onehot=4,\n",
       "                                             max_delta_step=0, max_depth=8,\n",
       "                                             max_leaves=0, min_child_weight=1,\n",
       "                                             missing=nan,\n",
       "                                             monotone_constraints=&#x27;()&#x27;,\n",
       "                                             n_estimators=100, n_jobs=-1,\n",
       "                                             num_parallel_tree=1,\n",
       "                                             predictor=&#x27;auto&#x27;, random_state=0, ...),\n",
       "                     support=&#x27;percent&#x27;)</pre><b>In a Jupyter environment, please rerun this cell to show the HTML representation or trust the notebook. <br />On GitHub, the HTML representation is unable to render, please try loading this page with nbviewer.org.</b></div><div class=\"sk-container\" hidden><div class=\"sk-item sk-dashed-wrapped\"><div class=\"sk-label-container\"><div class=\"sk-label sk-toggleable\"><input class=\"sk-toggleable__control sk-hidden--visually\" id=\"sk-estimator-id-4\" type=\"checkbox\" ><label for=\"sk-estimator-id-4\" class=\"sk-toggleable__label sk-toggleable__label-arrow\">ClassificationReport</label><div class=\"sk-toggleable__content\"><pre>ClassificationReport(ax=&lt;AxesSubplot: title={&#x27;center&#x27;: &#x27;XGBClassifier Classification Report&#x27;}&gt;,\n",
       "                     cmap=&lt;matplotlib.colors.ListedColormap object at 0x00000202A9065490&gt;,\n",
       "                     estimator=XGBClassifier(base_score=0.5, booster=&#x27;gbtree&#x27;,\n",
       "                                             callbacks=None,\n",
       "                                             colsample_bylevel=1,\n",
       "                                             colsample_bynode=1,\n",
       "                                             colsample_bytree=0.3,\n",
       "                                             early_stopping_rounds=None,\n",
       "                                             enable_categorical=False,\n",
       "                                             eval_metri...\n",
       "                                             gpu_id=-1, grow_policy=&#x27;depthwise&#x27;,\n",
       "                                             importance_type=None,\n",
       "                                             interaction_constraints=&#x27;&#x27;,\n",
       "                                             learning_rate=0.05, max_bin=256,\n",
       "                                             max_cat_threshold=64,\n",
       "                                             max_cat_to_onehot=4,\n",
       "                                             max_delta_step=0, max_depth=8,\n",
       "                                             max_leaves=0, min_child_weight=1,\n",
       "                                             missing=nan,\n",
       "                                             monotone_constraints=&#x27;()&#x27;,\n",
       "                                             n_estimators=100, n_jobs=-1,\n",
       "                                             num_parallel_tree=1,\n",
       "                                             predictor=&#x27;auto&#x27;, random_state=0, ...),\n",
       "                     support=&#x27;percent&#x27;)</pre></div></div></div><div class=\"sk-parallel\"><div class=\"sk-parallel-item\"><div class=\"sk-item\"><div class=\"sk-label-container\"><div class=\"sk-label sk-toggleable\"><input class=\"sk-toggleable__control sk-hidden--visually\" id=\"sk-estimator-id-5\" type=\"checkbox\" ><label for=\"sk-estimator-id-5\" class=\"sk-toggleable__label sk-toggleable__label-arrow\">estimator: XGBClassifier</label><div class=\"sk-toggleable__content\"><pre>XGBClassifier(base_score=0.5, booster=&#x27;gbtree&#x27;, callbacks=None,\n",
       "              colsample_bylevel=1, colsample_bynode=1, colsample_bytree=0.3,\n",
       "              early_stopping_rounds=None, enable_categorical=False,\n",
       "              eval_metric=[&#x27;auc&#x27;], feature_types=None, gamma=0, gpu_id=-1,\n",
       "              grow_policy=&#x27;depthwise&#x27;, importance_type=None,\n",
       "              interaction_constraints=&#x27;&#x27;, learning_rate=0.05, max_bin=256,\n",
       "              max_cat_threshold=64, max_cat_to_onehot=4, max_delta_step=0,\n",
       "              max_depth=8, max_leaves=0, min_child_weight=1, missing=nan,\n",
       "              monotone_constraints=&#x27;()&#x27;, n_estimators=100, n_jobs=-1,\n",
       "              num_parallel_tree=1, predictor=&#x27;auto&#x27;, random_state=0, ...)</pre></div></div></div><div class=\"sk-serial\"><div class=\"sk-item\"><div class=\"sk-estimator sk-toggleable\"><input class=\"sk-toggleable__control sk-hidden--visually\" id=\"sk-estimator-id-6\" type=\"checkbox\" ><label for=\"sk-estimator-id-6\" class=\"sk-toggleable__label sk-toggleable__label-arrow\">XGBClassifier</label><div class=\"sk-toggleable__content\"><pre>XGBClassifier(base_score=0.5, booster=&#x27;gbtree&#x27;, callbacks=None,\n",
       "              colsample_bylevel=1, colsample_bynode=1, colsample_bytree=0.3,\n",
       "              early_stopping_rounds=None, enable_categorical=False,\n",
       "              eval_metric=[&#x27;auc&#x27;], feature_types=None, gamma=0, gpu_id=-1,\n",
       "              grow_policy=&#x27;depthwise&#x27;, importance_type=None,\n",
       "              interaction_constraints=&#x27;&#x27;, learning_rate=0.05, max_bin=256,\n",
       "              max_cat_threshold=64, max_cat_to_onehot=4, max_delta_step=0,\n",
       "              max_depth=8, max_leaves=0, min_child_weight=1, missing=nan,\n",
       "              monotone_constraints=&#x27;()&#x27;, n_estimators=100, n_jobs=-1,\n",
       "              num_parallel_tree=1, predictor=&#x27;auto&#x27;, random_state=0, ...)</pre></div></div></div></div></div></div></div></div></div></div>"
      ],
      "text/plain": [
       "ClassificationReport(ax=<AxesSubplot: title={'center': 'XGBClassifier Classification Report'}>,\n",
       "                     cmap=<matplotlib.colors.ListedColormap object at 0x00000202A9065490>,\n",
       "                     estimator=XGBClassifier(base_score=0.5, booster='gbtree',\n",
       "                                             callbacks=None,\n",
       "                                             colsample_bylevel=1,\n",
       "                                             colsample_bynode=1,\n",
       "                                             colsample_bytree=0.3,\n",
       "                                             early_stopping_rounds=None,\n",
       "                                             enable_categorical=False,\n",
       "                                             eval_metri...\n",
       "                                             gpu_id=-1, grow_policy='depthwise',\n",
       "                                             importance_type=None,\n",
       "                                             interaction_constraints='',\n",
       "                                             learning_rate=0.05, max_bin=256,\n",
       "                                             max_cat_threshold=64,\n",
       "                                             max_cat_to_onehot=4,\n",
       "                                             max_delta_step=0, max_depth=8,\n",
       "                                             max_leaves=0, min_child_weight=1,\n",
       "                                             missing=nan,\n",
       "                                             monotone_constraints='()',\n",
       "                                             n_estimators=100, n_jobs=-1,\n",
       "                                             num_parallel_tree=1,\n",
       "                                             predictor='auto', random_state=0, ...),\n",
       "                     support='percent')"
      ]
     },
     "execution_count": 59,
     "metadata": {},
     "output_type": "execute_result"
    }
   ],
   "source": [
    "from yellowbrick.classifier.classification_report import classification_report\n",
    "\n",
    "classification_report(model,\n",
    "                      data_xgb, data_xgb_y,\n",
    "                      data_val_f,data_val_end,\n",
    "                      support=\"percent\",\n",
    "                      cmap=\"blues\",\n",
    "                      font_size=16,\n",
    "                      fig=plt.figure(figsize=(8,6))\n",
    "                     )\n",
    "\n"
   ]
  },
  {
   "cell_type": "code",
   "execution_count": 19,
   "metadata": {},
   "outputs": [
    {
     "data": {
      "text/plain": [
       "5"
      ]
     },
     "execution_count": 19,
     "metadata": {},
     "output_type": "execute_result"
    }
   ],
   "source": [
    "y_score = model.predict_proba(data_val_f)\n",
    "y = data_val_end\n",
    "n_classes = len(set(y))\n",
    "n_classes"
   ]
  },
  {
   "cell_type": "code",
   "execution_count": 20,
   "metadata": {},
   "outputs": [
    {
     "data": {
      "text/plain": [
       "array([[0.1279091 , 0.40478268, 0.14457098, 0.18969744, 0.13303974],\n",
       "       [0.08401822, 0.1162454 , 0.13949367, 0.20585056, 0.45439214],\n",
       "       [0.12506081, 0.5345231 , 0.13612373, 0.11609889, 0.08819342],\n",
       "       ...,\n",
       "       [0.10033968, 0.41731358, 0.15898289, 0.21489967, 0.10846422],\n",
       "       [0.07172512, 0.12141774, 0.10504272, 0.52217084, 0.17964356],\n",
       "       [0.04702779, 0.7777294 , 0.07624403, 0.04468414, 0.05431467]],\n",
       "      dtype=float32)"
      ]
     },
     "execution_count": 20,
     "metadata": {},
     "output_type": "execute_result"
    }
   ],
   "source": [
    "y_score"
   ]
  },
  {
   "cell_type": "code",
   "execution_count": 21,
   "metadata": {},
   "outputs": [
    {
     "data": {
      "text/plain": [
       "[[2370    3\n",
       "  1790    4\n",
       "  151     1\n",
       "  1002    1\n",
       "  1702    1\n",
       "         ..\n",
       "  1945    1\n",
       "  884     1\n",
       "  1893    1\n",
       "  420     3\n",
       "  518     1\n",
       "  Name: range, Length: 876, dtype: int64]]"
      ]
     },
     "execution_count": 21,
     "metadata": {},
     "output_type": "execute_result"
    }
   ],
   "source": [
    "y_test = [[data_val_end]]\n",
    "y_test"
   ]
  },
  {
   "cell_type": "code",
   "execution_count": 29,
   "metadata": {},
   "outputs": [
    {
     "data": {
      "text/plain": [
       "[0.8314715671117078]"
      ]
     },
     "execution_count": 29,
     "metadata": {},
     "output_type": "execute_result"
    }
   ],
   "source": [
    "auc_metric"
   ]
  },
  {
   "cell_type": "code",
   "execution_count": 17,
   "metadata": {},
   "outputs": [
    {
     "data": {
      "text/html": [
       "<div>\n",
       "<style scoped>\n",
       "    .dataframe tbody tr th:only-of-type {\n",
       "        vertical-align: middle;\n",
       "    }\n",
       "\n",
       "    .dataframe tbody tr th {\n",
       "        vertical-align: top;\n",
       "    }\n",
       "\n",
       "    .dataframe thead th {\n",
       "        text-align: right;\n",
       "    }\n",
       "</style>\n",
       "<table border=\"1\" class=\"dataframe\">\n",
       "  <thead>\n",
       "    <tr style=\"text-align: right;\">\n",
       "      <th></th>\n",
       "      <th>A</th>\n",
       "      <th>C</th>\n",
       "      <th>D</th>\n",
       "      <th>E</th>\n",
       "      <th>F</th>\n",
       "      <th>G</th>\n",
       "      <th>H</th>\n",
       "      <th>I</th>\n",
       "      <th>K</th>\n",
       "      <th>L</th>\n",
       "      <th>...</th>\n",
       "      <th>YYM</th>\n",
       "      <th>YYN</th>\n",
       "      <th>YYP</th>\n",
       "      <th>YYQ</th>\n",
       "      <th>YYR</th>\n",
       "      <th>YYS</th>\n",
       "      <th>YYT</th>\n",
       "      <th>YYV</th>\n",
       "      <th>YYW</th>\n",
       "      <th>YYY</th>\n",
       "    </tr>\n",
       "  </thead>\n",
       "  <tbody>\n",
       "    <tr>\n",
       "      <th>0</th>\n",
       "      <td>0.131295</td>\n",
       "      <td>0.017986</td>\n",
       "      <td>0.048561</td>\n",
       "      <td>0.070144</td>\n",
       "      <td>0.026978</td>\n",
       "      <td>0.082734</td>\n",
       "      <td>0.021583</td>\n",
       "      <td>0.062950</td>\n",
       "      <td>0.028777</td>\n",
       "      <td>0.080935</td>\n",
       "      <td>...</td>\n",
       "      <td>0.0</td>\n",
       "      <td>0.0</td>\n",
       "      <td>0.0</td>\n",
       "      <td>0.0</td>\n",
       "      <td>0.000000</td>\n",
       "      <td>0.000000</td>\n",
       "      <td>0.0</td>\n",
       "      <td>0.000000</td>\n",
       "      <td>0.0</td>\n",
       "      <td>0.0</td>\n",
       "    </tr>\n",
       "    <tr>\n",
       "      <th>1</th>\n",
       "      <td>0.044674</td>\n",
       "      <td>0.017182</td>\n",
       "      <td>0.058419</td>\n",
       "      <td>0.092784</td>\n",
       "      <td>0.054983</td>\n",
       "      <td>0.054983</td>\n",
       "      <td>0.006873</td>\n",
       "      <td>0.092784</td>\n",
       "      <td>0.099656</td>\n",
       "      <td>0.092784</td>\n",
       "      <td>...</td>\n",
       "      <td>0.0</td>\n",
       "      <td>0.0</td>\n",
       "      <td>0.0</td>\n",
       "      <td>0.0</td>\n",
       "      <td>0.000000</td>\n",
       "      <td>0.000000</td>\n",
       "      <td>0.0</td>\n",
       "      <td>0.000000</td>\n",
       "      <td>0.0</td>\n",
       "      <td>0.0</td>\n",
       "    </tr>\n",
       "    <tr>\n",
       "      <th>2</th>\n",
       "      <td>0.060811</td>\n",
       "      <td>0.013514</td>\n",
       "      <td>0.050676</td>\n",
       "      <td>0.064189</td>\n",
       "      <td>0.054054</td>\n",
       "      <td>0.094595</td>\n",
       "      <td>0.020270</td>\n",
       "      <td>0.060811</td>\n",
       "      <td>0.067568</td>\n",
       "      <td>0.077703</td>\n",
       "      <td>...</td>\n",
       "      <td>0.0</td>\n",
       "      <td>0.0</td>\n",
       "      <td>0.0</td>\n",
       "      <td>0.0</td>\n",
       "      <td>0.000000</td>\n",
       "      <td>0.000000</td>\n",
       "      <td>0.0</td>\n",
       "      <td>0.000000</td>\n",
       "      <td>0.0</td>\n",
       "      <td>0.0</td>\n",
       "    </tr>\n",
       "    <tr>\n",
       "      <th>3</th>\n",
       "      <td>0.073973</td>\n",
       "      <td>0.002740</td>\n",
       "      <td>0.068493</td>\n",
       "      <td>0.046575</td>\n",
       "      <td>0.049315</td>\n",
       "      <td>0.057534</td>\n",
       "      <td>0.016438</td>\n",
       "      <td>0.060274</td>\n",
       "      <td>0.079452</td>\n",
       "      <td>0.073973</td>\n",
       "      <td>...</td>\n",
       "      <td>0.0</td>\n",
       "      <td>0.0</td>\n",
       "      <td>0.0</td>\n",
       "      <td>0.0</td>\n",
       "      <td>0.000000</td>\n",
       "      <td>0.000000</td>\n",
       "      <td>0.0</td>\n",
       "      <td>0.000000</td>\n",
       "      <td>0.0</td>\n",
       "      <td>0.0</td>\n",
       "    </tr>\n",
       "    <tr>\n",
       "      <th>4</th>\n",
       "      <td>0.104972</td>\n",
       "      <td>0.001842</td>\n",
       "      <td>0.073665</td>\n",
       "      <td>0.081031</td>\n",
       "      <td>0.016575</td>\n",
       "      <td>0.073665</td>\n",
       "      <td>0.012891</td>\n",
       "      <td>0.093923</td>\n",
       "      <td>0.082873</td>\n",
       "      <td>0.064457</td>\n",
       "      <td>...</td>\n",
       "      <td>0.0</td>\n",
       "      <td>0.0</td>\n",
       "      <td>0.0</td>\n",
       "      <td>0.0</td>\n",
       "      <td>0.000000</td>\n",
       "      <td>0.000000</td>\n",
       "      <td>0.0</td>\n",
       "      <td>0.001848</td>\n",
       "      <td>0.0</td>\n",
       "      <td>0.0</td>\n",
       "    </tr>\n",
       "    <tr>\n",
       "      <th>...</th>\n",
       "      <td>...</td>\n",
       "      <td>...</td>\n",
       "      <td>...</td>\n",
       "      <td>...</td>\n",
       "      <td>...</td>\n",
       "      <td>...</td>\n",
       "      <td>...</td>\n",
       "      <td>...</td>\n",
       "      <td>...</td>\n",
       "      <td>...</td>\n",
       "      <td>...</td>\n",
       "      <td>...</td>\n",
       "      <td>...</td>\n",
       "      <td>...</td>\n",
       "      <td>...</td>\n",
       "      <td>...</td>\n",
       "      <td>...</td>\n",
       "      <td>...</td>\n",
       "      <td>...</td>\n",
       "      <td>...</td>\n",
       "      <td>...</td>\n",
       "    </tr>\n",
       "    <tr>\n",
       "      <th>7445</th>\n",
       "      <td>0.099272</td>\n",
       "      <td>0.002924</td>\n",
       "      <td>0.051814</td>\n",
       "      <td>0.075586</td>\n",
       "      <td>0.037325</td>\n",
       "      <td>0.081802</td>\n",
       "      <td>0.019656</td>\n",
       "      <td>0.044846</td>\n",
       "      <td>0.038630</td>\n",
       "      <td>0.100776</td>\n",
       "      <td>...</td>\n",
       "      <td>0.0</td>\n",
       "      <td>0.0</td>\n",
       "      <td>0.0</td>\n",
       "      <td>0.0</td>\n",
       "      <td>0.000000</td>\n",
       "      <td>0.000000</td>\n",
       "      <td>0.0</td>\n",
       "      <td>0.000000</td>\n",
       "      <td>0.0</td>\n",
       "      <td>0.0</td>\n",
       "    </tr>\n",
       "    <tr>\n",
       "      <th>7446</th>\n",
       "      <td>0.075066</td>\n",
       "      <td>0.002323</td>\n",
       "      <td>0.048728</td>\n",
       "      <td>0.095277</td>\n",
       "      <td>0.049222</td>\n",
       "      <td>0.075066</td>\n",
       "      <td>0.028024</td>\n",
       "      <td>0.099287</td>\n",
       "      <td>0.080063</td>\n",
       "      <td>0.103790</td>\n",
       "      <td>...</td>\n",
       "      <td>0.0</td>\n",
       "      <td>0.0</td>\n",
       "      <td>0.0</td>\n",
       "      <td>0.0</td>\n",
       "      <td>0.000000</td>\n",
       "      <td>0.000000</td>\n",
       "      <td>0.0</td>\n",
       "      <td>0.002336</td>\n",
       "      <td>0.0</td>\n",
       "      <td>0.0</td>\n",
       "    </tr>\n",
       "    <tr>\n",
       "      <th>7447</th>\n",
       "      <td>0.101765</td>\n",
       "      <td>0.006671</td>\n",
       "      <td>0.028161</td>\n",
       "      <td>0.084886</td>\n",
       "      <td>0.028653</td>\n",
       "      <td>0.096168</td>\n",
       "      <td>0.019431</td>\n",
       "      <td>0.026101</td>\n",
       "      <td>0.047099</td>\n",
       "      <td>0.119718</td>\n",
       "      <td>...</td>\n",
       "      <td>0.0</td>\n",
       "      <td>0.0</td>\n",
       "      <td>0.0</td>\n",
       "      <td>0.0</td>\n",
       "      <td>0.000000</td>\n",
       "      <td>0.000000</td>\n",
       "      <td>0.0</td>\n",
       "      <td>0.000000</td>\n",
       "      <td>0.0</td>\n",
       "      <td>0.0</td>\n",
       "    </tr>\n",
       "    <tr>\n",
       "      <th>7448</th>\n",
       "      <td>0.065521</td>\n",
       "      <td>0.006666</td>\n",
       "      <td>0.051770</td>\n",
       "      <td>0.097443</td>\n",
       "      <td>0.034513</td>\n",
       "      <td>0.083197</td>\n",
       "      <td>0.016418</td>\n",
       "      <td>0.052189</td>\n",
       "      <td>0.058361</td>\n",
       "      <td>0.099120</td>\n",
       "      <td>...</td>\n",
       "      <td>0.0</td>\n",
       "      <td>0.0</td>\n",
       "      <td>0.0</td>\n",
       "      <td>0.0</td>\n",
       "      <td>0.001338</td>\n",
       "      <td>0.001338</td>\n",
       "      <td>0.0</td>\n",
       "      <td>0.000000</td>\n",
       "      <td>0.0</td>\n",
       "      <td>0.0</td>\n",
       "    </tr>\n",
       "    <tr>\n",
       "      <th>7449</th>\n",
       "      <td>0.074525</td>\n",
       "      <td>0.001524</td>\n",
       "      <td>0.052147</td>\n",
       "      <td>0.109846</td>\n",
       "      <td>0.039779</td>\n",
       "      <td>0.061984</td>\n",
       "      <td>0.018753</td>\n",
       "      <td>0.079789</td>\n",
       "      <td>0.088935</td>\n",
       "      <td>0.106970</td>\n",
       "      <td>...</td>\n",
       "      <td>0.0</td>\n",
       "      <td>0.0</td>\n",
       "      <td>0.0</td>\n",
       "      <td>0.0</td>\n",
       "      <td>0.000000</td>\n",
       "      <td>0.000058</td>\n",
       "      <td>0.0</td>\n",
       "      <td>0.000000</td>\n",
       "      <td>0.0</td>\n",
       "      <td>0.0</td>\n",
       "    </tr>\n",
       "  </tbody>\n",
       "</table>\n",
       "<p>7450 rows × 8974 columns</p>\n",
       "</div>"
      ],
      "text/plain": [
       "             A         C         D         E         F         G         H  \\\n",
       "0     0.131295  0.017986  0.048561  0.070144  0.026978  0.082734  0.021583   \n",
       "1     0.044674  0.017182  0.058419  0.092784  0.054983  0.054983  0.006873   \n",
       "2     0.060811  0.013514  0.050676  0.064189  0.054054  0.094595  0.020270   \n",
       "3     0.073973  0.002740  0.068493  0.046575  0.049315  0.057534  0.016438   \n",
       "4     0.104972  0.001842  0.073665  0.081031  0.016575  0.073665  0.012891   \n",
       "...        ...       ...       ...       ...       ...       ...       ...   \n",
       "7445  0.099272  0.002924  0.051814  0.075586  0.037325  0.081802  0.019656   \n",
       "7446  0.075066  0.002323  0.048728  0.095277  0.049222  0.075066  0.028024   \n",
       "7447  0.101765  0.006671  0.028161  0.084886  0.028653  0.096168  0.019431   \n",
       "7448  0.065521  0.006666  0.051770  0.097443  0.034513  0.083197  0.016418   \n",
       "7449  0.074525  0.001524  0.052147  0.109846  0.039779  0.061984  0.018753   \n",
       "\n",
       "             I         K         L  ...  YYM  YYN  YYP  YYQ       YYR  \\\n",
       "0     0.062950  0.028777  0.080935  ...  0.0  0.0  0.0  0.0  0.000000   \n",
       "1     0.092784  0.099656  0.092784  ...  0.0  0.0  0.0  0.0  0.000000   \n",
       "2     0.060811  0.067568  0.077703  ...  0.0  0.0  0.0  0.0  0.000000   \n",
       "3     0.060274  0.079452  0.073973  ...  0.0  0.0  0.0  0.0  0.000000   \n",
       "4     0.093923  0.082873  0.064457  ...  0.0  0.0  0.0  0.0  0.000000   \n",
       "...        ...       ...       ...  ...  ...  ...  ...  ...       ...   \n",
       "7445  0.044846  0.038630  0.100776  ...  0.0  0.0  0.0  0.0  0.000000   \n",
       "7446  0.099287  0.080063  0.103790  ...  0.0  0.0  0.0  0.0  0.000000   \n",
       "7447  0.026101  0.047099  0.119718  ...  0.0  0.0  0.0  0.0  0.000000   \n",
       "7448  0.052189  0.058361  0.099120  ...  0.0  0.0  0.0  0.0  0.001338   \n",
       "7449  0.079789  0.088935  0.106970  ...  0.0  0.0  0.0  0.0  0.000000   \n",
       "\n",
       "           YYS  YYT       YYV  YYW  YYY  \n",
       "0     0.000000  0.0  0.000000  0.0  0.0  \n",
       "1     0.000000  0.0  0.000000  0.0  0.0  \n",
       "2     0.000000  0.0  0.000000  0.0  0.0  \n",
       "3     0.000000  0.0  0.000000  0.0  0.0  \n",
       "4     0.000000  0.0  0.001848  0.0  0.0  \n",
       "...        ...  ...       ...  ...  ...  \n",
       "7445  0.000000  0.0  0.000000  0.0  0.0  \n",
       "7446  0.000000  0.0  0.002336  0.0  0.0  \n",
       "7447  0.000000  0.0  0.000000  0.0  0.0  \n",
       "7448  0.001338  0.0  0.000000  0.0  0.0  \n",
       "7449  0.000058  0.0  0.000000  0.0  0.0  \n",
       "\n",
       "[7450 rows x 8974 columns]"
      ]
     },
     "execution_count": 17,
     "metadata": {},
     "output_type": "execute_result"
    }
   ],
   "source": [
    "data_xgb"
   ]
  },
  {
   "cell_type": "code",
   "execution_count": 18,
   "metadata": {},
   "outputs": [
    {
     "data": {
      "text/plain": [
       "0       1\n",
       "1       3\n",
       "2       1\n",
       "3       1\n",
       "4       2\n",
       "       ..\n",
       "7445    4\n",
       "7446    4\n",
       "7447    4\n",
       "7448    4\n",
       "7449    4\n",
       "Name: range, Length: 7450, dtype: int64"
      ]
     },
     "execution_count": 18,
     "metadata": {},
     "output_type": "execute_result"
    }
   ],
   "source": [
    "data_xgb_y\n"
   ]
  },
  {
   "cell_type": "code",
   "execution_count": 19,
   "metadata": {},
   "outputs": [
    {
     "name": "stdout",
     "output_type": "stream",
     "text": [
      "Fitting 2 folds for each of 1 candidates, totalling 2 fits\n"
     ]
    },
    {
     "data": {
      "text/html": [
       "<style>#sk-container-id-1 {color: black;background-color: white;}#sk-container-id-1 pre{padding: 0;}#sk-container-id-1 div.sk-toggleable {background-color: white;}#sk-container-id-1 label.sk-toggleable__label {cursor: pointer;display: block;width: 100%;margin-bottom: 0;padding: 0.3em;box-sizing: border-box;text-align: center;}#sk-container-id-1 label.sk-toggleable__label-arrow:before {content: \"▸\";float: left;margin-right: 0.25em;color: #696969;}#sk-container-id-1 label.sk-toggleable__label-arrow:hover:before {color: black;}#sk-container-id-1 div.sk-estimator:hover label.sk-toggleable__label-arrow:before {color: black;}#sk-container-id-1 div.sk-toggleable__content {max-height: 0;max-width: 0;overflow: hidden;text-align: left;background-color: #f0f8ff;}#sk-container-id-1 div.sk-toggleable__content pre {margin: 0.2em;color: black;border-radius: 0.25em;background-color: #f0f8ff;}#sk-container-id-1 input.sk-toggleable__control:checked~div.sk-toggleable__content {max-height: 200px;max-width: 100%;overflow: auto;}#sk-container-id-1 input.sk-toggleable__control:checked~label.sk-toggleable__label-arrow:before {content: \"▾\";}#sk-container-id-1 div.sk-estimator input.sk-toggleable__control:checked~label.sk-toggleable__label {background-color: #d4ebff;}#sk-container-id-1 div.sk-label input.sk-toggleable__control:checked~label.sk-toggleable__label {background-color: #d4ebff;}#sk-container-id-1 input.sk-hidden--visually {border: 0;clip: rect(1px 1px 1px 1px);clip: rect(1px, 1px, 1px, 1px);height: 1px;margin: -1px;overflow: hidden;padding: 0;position: absolute;width: 1px;}#sk-container-id-1 div.sk-estimator {font-family: monospace;background-color: #f0f8ff;border: 1px dotted black;border-radius: 0.25em;box-sizing: border-box;margin-bottom: 0.5em;}#sk-container-id-1 div.sk-estimator:hover {background-color: #d4ebff;}#sk-container-id-1 div.sk-parallel-item::after {content: \"\";width: 100%;border-bottom: 1px solid gray;flex-grow: 1;}#sk-container-id-1 div.sk-label:hover label.sk-toggleable__label {background-color: #d4ebff;}#sk-container-id-1 div.sk-serial::before {content: \"\";position: absolute;border-left: 1px solid gray;box-sizing: border-box;top: 0;bottom: 0;left: 50%;z-index: 0;}#sk-container-id-1 div.sk-serial {display: flex;flex-direction: column;align-items: center;background-color: white;padding-right: 0.2em;padding-left: 0.2em;position: relative;}#sk-container-id-1 div.sk-item {position: relative;z-index: 1;}#sk-container-id-1 div.sk-parallel {display: flex;align-items: stretch;justify-content: center;background-color: white;position: relative;}#sk-container-id-1 div.sk-item::before, #sk-container-id-1 div.sk-parallel-item::before {content: \"\";position: absolute;border-left: 1px solid gray;box-sizing: border-box;top: 0;bottom: 0;left: 50%;z-index: -1;}#sk-container-id-1 div.sk-parallel-item {display: flex;flex-direction: column;z-index: 1;position: relative;background-color: white;}#sk-container-id-1 div.sk-parallel-item:first-child::after {align-self: flex-end;width: 50%;}#sk-container-id-1 div.sk-parallel-item:last-child::after {align-self: flex-start;width: 50%;}#sk-container-id-1 div.sk-parallel-item:only-child::after {width: 0;}#sk-container-id-1 div.sk-dashed-wrapped {border: 1px dashed gray;margin: 0 0.4em 0.5em 0.4em;box-sizing: border-box;padding-bottom: 0.4em;background-color: white;}#sk-container-id-1 div.sk-label label {font-family: monospace;font-weight: bold;display: inline-block;line-height: 1.2em;}#sk-container-id-1 div.sk-label-container {text-align: center;}#sk-container-id-1 div.sk-container {/* jupyter's `normalize.less` sets `[hidden] { display: none; }` but bootstrap.min.css set `[hidden] { display: none !important; }` so we also need the `!important` here to be able to override the default hidden behavior on the sphinx rendered scikit-learn.org. See: https://github.com/scikit-learn/scikit-learn/issues/21755 */display: inline-block !important;position: relative;}#sk-container-id-1 div.sk-text-repr-fallback {display: none;}</style><div id=\"sk-container-id-1\" class=\"sk-top-container\"><div class=\"sk-text-repr-fallback\"><pre>RandomizedSearchCV(cv=2,\n",
       "                   estimator=XGBClassifier(base_score=None, booster=None,\n",
       "                                           callbacks=None,\n",
       "                                           colsample_bylevel=None,\n",
       "                                           colsample_bynode=None,\n",
       "                                           colsample_bytree=None,\n",
       "                                           early_stopping_rounds=None,\n",
       "                                           enable_categorical=False,\n",
       "                                           eval_metric=None, feature_types=None,\n",
       "                                           gamma=None, gpu_id=None,\n",
       "                                           grow_policy=None,\n",
       "                                           importance_type=None,\n",
       "                                           interaction_constraints=None,\n",
       "                                           learning_rate...\n",
       "                   param_distributions={&#x27;booster&#x27;: [&#x27;gbtree&#x27;],\n",
       "                                        &#x27;colsample_bytree&#x27;: [0.05, 0.1, 0.2,\n",
       "                                                             0.4],\n",
       "                                        &#x27;eval_metric&#x27;: [&#x27;auc&#x27;],\n",
       "                                        &#x27;gamma&#x27;: [1, 0.1, 10, 50, 100],\n",
       "                                        &#x27;learning_rate&#x27;: [0.01, 0.05, 0.07,\n",
       "                                                          0.1],\n",
       "                                        &#x27;max_depth&#x27;: [5, 8, 10, 15],\n",
       "                                        &#x27;n_jobs&#x27;: [-1],\n",
       "                                        &#x27;num_parallel_tree&#x27;: [1],\n",
       "                                        &#x27;objective&#x27;: [&#x27;multi:softprob&#x27;],\n",
       "                                        &#x27;sampling_method&#x27;: [&#x27;uniform&#x27;],\n",
       "                                        &#x27;subsample&#x27;: [0.1, 0.3, 0.5, 0.7],\n",
       "                                        &#x27;tree_method&#x27;: [&#x27;auto&#x27;],\n",
       "                                        &#x27;verbosity&#x27;: [1]},\n",
       "                   verbose=2)</pre><b>In a Jupyter environment, please rerun this cell to show the HTML representation or trust the notebook. <br />On GitHub, the HTML representation is unable to render, please try loading this page with nbviewer.org.</b></div><div class=\"sk-container\" hidden><div class=\"sk-item sk-dashed-wrapped\"><div class=\"sk-label-container\"><div class=\"sk-label sk-toggleable\"><input class=\"sk-toggleable__control sk-hidden--visually\" id=\"sk-estimator-id-1\" type=\"checkbox\" ><label for=\"sk-estimator-id-1\" class=\"sk-toggleable__label sk-toggleable__label-arrow\">RandomizedSearchCV</label><div class=\"sk-toggleable__content\"><pre>RandomizedSearchCV(cv=2,\n",
       "                   estimator=XGBClassifier(base_score=None, booster=None,\n",
       "                                           callbacks=None,\n",
       "                                           colsample_bylevel=None,\n",
       "                                           colsample_bynode=None,\n",
       "                                           colsample_bytree=None,\n",
       "                                           early_stopping_rounds=None,\n",
       "                                           enable_categorical=False,\n",
       "                                           eval_metric=None, feature_types=None,\n",
       "                                           gamma=None, gpu_id=None,\n",
       "                                           grow_policy=None,\n",
       "                                           importance_type=None,\n",
       "                                           interaction_constraints=None,\n",
       "                                           learning_rate...\n",
       "                   param_distributions={&#x27;booster&#x27;: [&#x27;gbtree&#x27;],\n",
       "                                        &#x27;colsample_bytree&#x27;: [0.05, 0.1, 0.2,\n",
       "                                                             0.4],\n",
       "                                        &#x27;eval_metric&#x27;: [&#x27;auc&#x27;],\n",
       "                                        &#x27;gamma&#x27;: [1, 0.1, 10, 50, 100],\n",
       "                                        &#x27;learning_rate&#x27;: [0.01, 0.05, 0.07,\n",
       "                                                          0.1],\n",
       "                                        &#x27;max_depth&#x27;: [5, 8, 10, 15],\n",
       "                                        &#x27;n_jobs&#x27;: [-1],\n",
       "                                        &#x27;num_parallel_tree&#x27;: [1],\n",
       "                                        &#x27;objective&#x27;: [&#x27;multi:softprob&#x27;],\n",
       "                                        &#x27;sampling_method&#x27;: [&#x27;uniform&#x27;],\n",
       "                                        &#x27;subsample&#x27;: [0.1, 0.3, 0.5, 0.7],\n",
       "                                        &#x27;tree_method&#x27;: [&#x27;auto&#x27;],\n",
       "                                        &#x27;verbosity&#x27;: [1]},\n",
       "                   verbose=2)</pre></div></div></div><div class=\"sk-parallel\"><div class=\"sk-parallel-item\"><div class=\"sk-item\"><div class=\"sk-label-container\"><div class=\"sk-label sk-toggleable\"><input class=\"sk-toggleable__control sk-hidden--visually\" id=\"sk-estimator-id-2\" type=\"checkbox\" ><label for=\"sk-estimator-id-2\" class=\"sk-toggleable__label sk-toggleable__label-arrow\">estimator: XGBClassifier</label><div class=\"sk-toggleable__content\"><pre>XGBClassifier(base_score=None, booster=None, callbacks=None,\n",
       "              colsample_bylevel=None, colsample_bynode=None,\n",
       "              colsample_bytree=None, early_stopping_rounds=None,\n",
       "              enable_categorical=False, eval_metric=None, feature_types=None,\n",
       "              gamma=None, gpu_id=None, grow_policy=None, importance_type=None,\n",
       "              interaction_constraints=None, learning_rate=None, max_bin=None,\n",
       "              max_cat_threshold=None, max_cat_to_onehot=None,\n",
       "              max_delta_step=None, max_depth=None, max_leaves=None,\n",
       "              min_child_weight=None, missing=nan, monotone_constraints=None,\n",
       "              n_estimators=100, n_jobs=None, num_parallel_tree=None,\n",
       "              predictor=None, random_state=None, ...)</pre></div></div></div><div class=\"sk-serial\"><div class=\"sk-item\"><div class=\"sk-estimator sk-toggleable\"><input class=\"sk-toggleable__control sk-hidden--visually\" id=\"sk-estimator-id-3\" type=\"checkbox\" ><label for=\"sk-estimator-id-3\" class=\"sk-toggleable__label sk-toggleable__label-arrow\">XGBClassifier</label><div class=\"sk-toggleable__content\"><pre>XGBClassifier(base_score=None, booster=None, callbacks=None,\n",
       "              colsample_bylevel=None, colsample_bynode=None,\n",
       "              colsample_bytree=None, early_stopping_rounds=None,\n",
       "              enable_categorical=False, eval_metric=None, feature_types=None,\n",
       "              gamma=None, gpu_id=None, grow_policy=None, importance_type=None,\n",
       "              interaction_constraints=None, learning_rate=None, max_bin=None,\n",
       "              max_cat_threshold=None, max_cat_to_onehot=None,\n",
       "              max_delta_step=None, max_depth=None, max_leaves=None,\n",
       "              min_child_weight=None, missing=nan, monotone_constraints=None,\n",
       "              n_estimators=100, n_jobs=None, num_parallel_tree=None,\n",
       "              predictor=None, random_state=None, ...)</pre></div></div></div></div></div></div></div></div></div></div>"
      ],
      "text/plain": [
       "RandomizedSearchCV(cv=2,\n",
       "                   estimator=XGBClassifier(base_score=None, booster=None,\n",
       "                                           callbacks=None,\n",
       "                                           colsample_bylevel=None,\n",
       "                                           colsample_bynode=None,\n",
       "                                           colsample_bytree=None,\n",
       "                                           early_stopping_rounds=None,\n",
       "                                           enable_categorical=False,\n",
       "                                           eval_metric=None, feature_types=None,\n",
       "                                           gamma=None, gpu_id=None,\n",
       "                                           grow_policy=None,\n",
       "                                           importance_type=None,\n",
       "                                           interaction_constraints=None,\n",
       "                                           learning_rate...\n",
       "                   param_distributions={'booster': ['gbtree'],\n",
       "                                        'colsample_bytree': [0.05, 0.1, 0.2,\n",
       "                                                             0.4],\n",
       "                                        'eval_metric': ['auc'],\n",
       "                                        'gamma': [1, 0.1, 10, 50, 100],\n",
       "                                        'learning_rate': [0.01, 0.05, 0.07,\n",
       "                                                          0.1],\n",
       "                                        'max_depth': [5, 8, 10, 15],\n",
       "                                        'n_jobs': [-1],\n",
       "                                        'num_parallel_tree': [1],\n",
       "                                        'objective': ['multi:softprob'],\n",
       "                                        'sampling_method': ['uniform'],\n",
       "                                        'subsample': [0.1, 0.3, 0.5, 0.7],\n",
       "                                        'tree_method': ['auto'],\n",
       "                                        'verbosity': [1]},\n",
       "                   verbose=2)"
      ]
     },
     "execution_count": 19,
     "metadata": {},
     "output_type": "execute_result"
    }
   ],
   "source": [
    "from sklearn.model_selection import GridSearchCV\n",
    "from sklearn.model_selection import RandomizedSearchCV\n",
    "param_grid = {'learning_rate': [0.01,0.05,0.07,0.1],  \n",
    "              'gamma': [1, 0.1, 10,50,100], \n",
    "              'max_depth':[5,8,10,15],\n",
    "              'subsample': [0.1,0.3,0.5,0.7],\n",
    "              'colsample_bytree':[0.05,0.1,0.2,0.4],\n",
    "              'num_parallel_tree': [1],\n",
    "              'verbosity': [1],\n",
    "              'booster':['gbtree'],\n",
    "              'tree_method':['auto'],\n",
    "              'eval_metric':['auc'],\n",
    "              'sampling_method':['uniform'],\n",
    "              'objective':[\"multi:softprob\"],\n",
    "              'n_jobs':[-1]}  \n",
    "\n",
    "n_iter_search = 10\n",
    "model = xgb.XGBClassifier()\n",
    "random = RandomizedSearchCV(model, param_grid, refit = True, verbose = 2,n_jobs=-1, cv = 2, n_iter= n_iter_search) \n",
    "random.fit(data_xgb,data_xgb_y)"
   ]
  },
  {
   "cell_type": "code",
   "execution_count": 22,
   "metadata": {},
   "outputs": [
    {
     "data": {
      "text/html": [
       "<div>\n",
       "<style scoped>\n",
       "    .dataframe tbody tr th:only-of-type {\n",
       "        vertical-align: middle;\n",
       "    }\n",
       "\n",
       "    .dataframe tbody tr th {\n",
       "        vertical-align: top;\n",
       "    }\n",
       "\n",
       "    .dataframe thead th {\n",
       "        text-align: right;\n",
       "    }\n",
       "</style>\n",
       "<table border=\"1\" class=\"dataframe\">\n",
       "  <thead>\n",
       "    <tr style=\"text-align: right;\">\n",
       "      <th></th>\n",
       "      <th>mean_fit_time</th>\n",
       "      <th>std_fit_time</th>\n",
       "      <th>mean_score_time</th>\n",
       "      <th>std_score_time</th>\n",
       "      <th>param_verbosity</th>\n",
       "      <th>param_tree_method</th>\n",
       "      <th>param_subsample</th>\n",
       "      <th>param_sampling_method</th>\n",
       "      <th>param_objective</th>\n",
       "      <th>param_num_parallel_tree</th>\n",
       "      <th>...</th>\n",
       "      <th>param_gamma</th>\n",
       "      <th>param_eval_metric</th>\n",
       "      <th>param_colsample_bytree</th>\n",
       "      <th>param_booster</th>\n",
       "      <th>params</th>\n",
       "      <th>split0_test_score</th>\n",
       "      <th>split1_test_score</th>\n",
       "      <th>mean_test_score</th>\n",
       "      <th>std_test_score</th>\n",
       "      <th>rank_test_score</th>\n",
       "    </tr>\n",
       "  </thead>\n",
       "  <tbody>\n",
       "    <tr>\n",
       "      <th>0</th>\n",
       "      <td>152.579387</td>\n",
       "      <td>0.365024</td>\n",
       "      <td>2.710752</td>\n",
       "      <td>0.011967</td>\n",
       "      <td>1</td>\n",
       "      <td>auto</td>\n",
       "      <td>0.5</td>\n",
       "      <td>uniform</td>\n",
       "      <td>multi:softprob</td>\n",
       "      <td>1</td>\n",
       "      <td>...</td>\n",
       "      <td>50</td>\n",
       "      <td>auc</td>\n",
       "      <td>0.1</td>\n",
       "      <td>gbtree</td>\n",
       "      <td>{'verbosity': 1, 'tree_method': 'auto', 'subsa...</td>\n",
       "      <td>0.718926</td>\n",
       "      <td>0.700671</td>\n",
       "      <td>0.709799</td>\n",
       "      <td>0.009128</td>\n",
       "      <td>1</td>\n",
       "    </tr>\n",
       "  </tbody>\n",
       "</table>\n",
       "<p>1 rows × 23 columns</p>\n",
       "</div>"
      ],
      "text/plain": [
       "   mean_fit_time  std_fit_time  mean_score_time  std_score_time  \\\n",
       "0     152.579387      0.365024         2.710752        0.011967   \n",
       "\n",
       "  param_verbosity param_tree_method param_subsample param_sampling_method  \\\n",
       "0               1              auto             0.5               uniform   \n",
       "\n",
       "  param_objective param_num_parallel_tree  ... param_gamma param_eval_metric  \\\n",
       "0  multi:softprob                       1  ...          50               auc   \n",
       "\n",
       "  param_colsample_bytree param_booster  \\\n",
       "0                    0.1        gbtree   \n",
       "\n",
       "                                              params split0_test_score  \\\n",
       "0  {'verbosity': 1, 'tree_method': 'auto', 'subsa...          0.718926   \n",
       "\n",
       "  split1_test_score mean_test_score  std_test_score  rank_test_score  \n",
       "0          0.700671        0.709799        0.009128                1  \n",
       "\n",
       "[1 rows x 23 columns]"
      ]
     },
     "execution_count": 22,
     "metadata": {},
     "output_type": "execute_result"
    }
   ],
   "source": [
    "cv_2_results  = pd.DataFrame(random.cv_results_)\n",
    "cv_2_results"
   ]
  },
  {
   "cell_type": "code",
   "execution_count": 20,
   "metadata": {},
   "outputs": [
    {
     "ename": "NameError",
     "evalue": "name 'cv_2_results' is not defined",
     "output_type": "error",
     "traceback": [
      "\u001b[1;31m---------------------------------------------------------------------------\u001b[0m",
      "\u001b[1;31mNameError\u001b[0m                                 Traceback (most recent call last)",
      "Cell \u001b[1;32mIn[20], line 1\u001b[0m\n\u001b[1;32m----> 1\u001b[0m cv_2_results\u001b[39m.\u001b[39mcolumns\n",
      "\u001b[1;31mNameError\u001b[0m: name 'cv_2_results' is not defined"
     ]
    }
   ],
   "source": [
    "cv_2_results.columns"
   ]
  },
  {
   "cell_type": "code",
   "execution_count": 21,
   "metadata": {},
   "outputs": [
    {
     "data": {
      "text/plain": [
       "{'verbosity': 1,\n",
       " 'tree_method': 'auto',\n",
       " 'subsample': 0.5,\n",
       " 'sampling_method': 'uniform',\n",
       " 'objective': 'multi:softprob',\n",
       " 'num_parallel_tree': 1,\n",
       " 'n_jobs': -1,\n",
       " 'max_depth': 15,\n",
       " 'learning_rate': 0.07,\n",
       " 'gamma': 50,\n",
       " 'eval_metric': 'auc',\n",
       " 'colsample_bytree': 0.1,\n",
       " 'booster': 'gbtree'}"
      ]
     },
     "execution_count": 21,
     "metadata": {},
     "output_type": "execute_result"
    }
   ],
   "source": [
    "random.best_params_"
   ]
  },
  {
   "cell_type": "code",
   "execution_count": 34,
   "metadata": {},
   "outputs": [
    {
     "data": {
      "image/png": "[encoded data removed]",
      "text/plain": [
       "<Figure size 1500x800 with 1 Axes>"
      ]
     },
     "metadata": {},
     "output_type": "display_data"
    }
   ],
   "source": [
    "plt.figure(figsize=(15,8))\n",
    "sns.barplot(x=\"param_max_depth\",\n",
    "\n",
    "           y=\"mean_test_score\",\n",
    "\n",
    "           hue=\"rank_test_score\",width=2,\n",
    "\n",
    "           data=cv_2_results)\n",
    "\n",
    "plt.show()"
   ]
  },
  {
   "cell_type": "code",
   "execution_count": 35,
   "metadata": {},
   "outputs": [],
   "source": [
    "cv_2_results['rank_test_score'] = cv_2_results['rank_test_score'].astype(str)\n",
    "cv_2_results['param_max_depth'] = cv_2_results['param_max_depth'].astype(str)\n",
    "cv_2_results['param_gamma'] = cv_2_results['param_gamma'].astype(str)\n",
    "\n",
    "cv_2_results['param_colsample_bytree'] = cv_2_results['param_colsample_bytree'].astype(str)\n",
    "cv_2_results['param_subsample'] = cv_2_results['param_subsample'].astype(str)"
   ]
  },
  {
   "cell_type": "code",
   "execution_count": 36,
   "metadata": {},
   "outputs": [
    {
     "data": {
      "application/vnd.plotly.v1+json": {
       "config": {
        "plotlyServerURL": "https://plot.ly"
       },
       "data": [
        {
         "alignmentgroup": "True",
         "customdata": [
          [
           "1"
          ]
         ],
         "hovertemplate": "rank_test_score=%{customdata[0]}<br>param_colsample_bytree=%{x}<br>mean_test_score=%{y}<extra></extra>",
         "legendgroup": "1",
         "marker": {
          "color": "#636efa",
          "pattern": {
           "shape": ""
          }
         },
         "name": "1",
         "offsetgroup": "1",
         "orientation": "v",
         "showlegend": true,
         "textposition": "auto",
         "type": "bar",
         "x": [
          "0.05"
         ],
         "xaxis": "x",
         "y": [
          null
         ],
         "yaxis": "y"
        },
        {
         "alignmentgroup": "True",
         "customdata": [
          [
           "2"
          ]
         ],
         "hovertemplate": "rank_test_score=%{customdata[0]}<br>param_colsample_bytree=%{x}<br>mean_test_score=%{y}<extra></extra>",
         "legendgroup": "2",
         "marker": {
          "color": "#EF553B",
          "pattern": {
           "shape": ""
          }
         },
         "name": "2",
         "offsetgroup": "2",
         "orientation": "v",
         "showlegend": true,
         "textposition": "auto",
         "type": "bar",
         "x": [
          "0.05"
         ],
         "xaxis": "x",
         "y": [
          null
         ],
         "yaxis": "y"
        },
        {
         "alignmentgroup": "True",
         "customdata": [
          [
           "3"
          ]
         ],
         "hovertemplate": "rank_test_score=%{customdata[0]}<br>param_colsample_bytree=%{x}<br>mean_test_score=%{y}<extra></extra>",
         "legendgroup": "3",
         "marker": {
          "color": "#00cc96",
          "pattern": {
           "shape": ""
          }
         },
         "name": "3",
         "offsetgroup": "3",
         "orientation": "v",
         "showlegend": true,
         "textposition": "auto",
         "type": "bar",
         "x": [
          "0.05"
         ],
         "xaxis": "x",
         "y": [
          null
         ],
         "yaxis": "y"
        },
        {
         "alignmentgroup": "True",
         "customdata": [
          [
           "4"
          ]
         ],
         "hovertemplate": "rank_test_score=%{customdata[0]}<br>param_colsample_bytree=%{x}<br>mean_test_score=%{y}<extra></extra>",
         "legendgroup": "4",
         "marker": {
          "color": "#ab63fa",
          "pattern": {
           "shape": ""
          }
         },
         "name": "4",
         "offsetgroup": "4",
         "orientation": "v",
         "showlegend": true,
         "textposition": "auto",
         "type": "bar",
         "x": [
          "0.4"
         ],
         "xaxis": "x",
         "y": [
          null
         ],
         "yaxis": "y"
        },
        {
         "alignmentgroup": "True",
         "customdata": [
          [
           "5"
          ]
         ],
         "hovertemplate": "rank_test_score=%{customdata[0]}<br>param_colsample_bytree=%{x}<br>mean_test_score=%{y}<extra></extra>",
         "legendgroup": "5",
         "marker": {
          "color": "#FFA15A",
          "pattern": {
           "shape": ""
          }
         },
         "name": "5",
         "offsetgroup": "5",
         "orientation": "v",
         "showlegend": true,
         "textposition": "auto",
         "type": "bar",
         "x": [
          "0.1"
         ],
         "xaxis": "x",
         "y": [
          null
         ],
         "yaxis": "y"
        },
        {
         "alignmentgroup": "True",
         "customdata": [
          [
           "6"
          ]
         ],
         "hovertemplate": "rank_test_score=%{customdata[0]}<br>param_colsample_bytree=%{x}<br>mean_test_score=%{y}<extra></extra>",
         "legendgroup": "6",
         "marker": {
          "color": "#19d3f3",
          "pattern": {
           "shape": ""
          }
         },
         "name": "6",
         "offsetgroup": "6",
         "orientation": "v",
         "showlegend": true,
         "textposition": "auto",
         "type": "bar",
         "x": [
          "0.2"
         ],
         "xaxis": "x",
         "y": [
          null
         ],
         "yaxis": "y"
        },
        {
         "alignmentgroup": "True",
         "customdata": [
          [
           "7"
          ]
         ],
         "hovertemplate": "rank_test_score=%{customdata[0]}<br>param_colsample_bytree=%{x}<br>mean_test_score=%{y}<extra></extra>",
         "legendgroup": "7",
         "marker": {
          "color": "#FF6692",
          "pattern": {
           "shape": ""
          }
         },
         "name": "7",
         "offsetgroup": "7",
         "orientation": "v",
         "showlegend": true,
         "textposition": "auto",
         "type": "bar",
         "x": [
          "0.4"
         ],
         "xaxis": "x",
         "y": [
          null
         ],
         "yaxis": "y"
        },
        {
         "alignmentgroup": "True",
         "customdata": [
          [
           "8"
          ]
         ],
         "hovertemplate": "rank_test_score=%{customdata[0]}<br>param_colsample_bytree=%{x}<br>mean_test_score=%{y}<extra></extra>",
         "legendgroup": "8",
         "marker": {
          "color": "#B6E880",
          "pattern": {
           "shape": ""
          }
         },
         "name": "8",
         "offsetgroup": "8",
         "orientation": "v",
         "showlegend": true,
         "textposition": "auto",
         "type": "bar",
         "x": [
          "0.4"
         ],
         "xaxis": "x",
         "y": [
          null
         ],
         "yaxis": "y"
        },
        {
         "alignmentgroup": "True",
         "customdata": [
          [
           "9"
          ]
         ],
         "hovertemplate": "rank_test_score=%{customdata[0]}<br>param_colsample_bytree=%{x}<br>mean_test_score=%{y}<extra></extra>",
         "legendgroup": "9",
         "marker": {
          "color": "#FF97FF",
          "pattern": {
           "shape": ""
          }
         },
         "name": "9",
         "offsetgroup": "9",
         "orientation": "v",
         "showlegend": true,
         "textposition": "auto",
         "type": "bar",
         "x": [
          "0.2"
         ],
         "xaxis": "x",
         "y": [
          null
         ],
         "yaxis": "y"
        },
        {
         "alignmentgroup": "True",
         "customdata": [
          [
           "10"
          ]
         ],
         "hovertemplate": "rank_test_score=%{customdata[0]}<br>param_colsample_bytree=%{x}<br>mean_test_score=%{y}<extra></extra>",
         "legendgroup": "10",
         "marker": {
          "color": "#FECB52",
          "pattern": {
           "shape": ""
          }
         },
         "name": "10",
         "offsetgroup": "10",
         "orientation": "v",
         "showlegend": true,
         "textposition": "auto",
         "type": "bar",
         "x": [
          "0.05"
         ],
         "xaxis": "x",
         "y": [
          null
         ],
         "yaxis": "y"
        }
       ],
       "layout": {
        "autosize": false,
        "barmode": "group",
        "height": 600,
        "legend": {
         "title": {
          "text": "rank_test_score"
         },
         "tracegroupgap": 0
        },
        "template": {
         "data": {
          "bar": [
           {
            "error_x": {
             "color": "#2a3f5f"
            },
            "error_y": {
             "color": "#2a3f5f"
            },
            "marker": {
             "line": {
              "color": "#E5ECF6",
              "width": 0.5
             },
             "pattern": {
              "fillmode": "overlay",
              "size": 10,
              "solidity": 0.2
             }
            },
            "type": "bar"
           }
          ],
          "barpolar": [
           {
            "marker": {
             "line": {
              "color": "#E5ECF6",
              "width": 0.5
             },
             "pattern": {
              "fillmode": "overlay",
              "size": 10,
              "solidity": 0.2
             }
            },
            "type": "barpolar"
           }
          ],
          "carpet": [
           {
            "aaxis": {
             "endlinecolor": "#2a3f5f",
             "gridcolor": "white",
             "linecolor": "white",
             "minorgridcolor": "white",
             "startlinecolor": "#2a3f5f"
            },
            "baxis": {
             "endlinecolor": "#2a3f5f",
             "gridcolor": "white",
             "linecolor": "white",
             "minorgridcolor": "white",
             "startlinecolor": "#2a3f5f"
            },
            "type": "carpet"
           }
          ],
          "choropleth": [
           {
            "colorbar": {
             "outlinewidth": 0,
             "ticks": ""
            },
            "type": "choropleth"
           }
          ],
          "contour": [
           {
            "colorbar": {
             "outlinewidth": 0,
             "ticks": ""
            },
            "colorscale": [
             [
              0,
              "#0d0887"
             ],
             [
              0.1111111111111111,
              "#46039f"
             ],
             [
              0.2222222222222222,
              "#7201a8"
             ],
             [
              0.3333333333333333,
              "#9c179e"
             ],
             [
              0.4444444444444444,
              "#bd3786"
             ],
             [
              0.5555555555555556,
              "#d8576b"
             ],
             [
              0.6666666666666666,
              "#ed7953"
             ],
             [
              0.7777777777777778,
              "#fb9f3a"
             ],
             [
              0.8888888888888888,
              "#fdca26"
             ],
             [
              1,
              "#f0f921"
             ]
            ],
            "type": "contour"
           }
          ],
          "contourcarpet": [
           {
            "colorbar": {
             "outlinewidth": 0,
             "ticks": ""
            },
            "type": "contourcarpet"
           }
          ],
          "heatmap": [
           {
            "colorbar": {
             "outlinewidth": 0,
             "ticks": ""
            },
            "colorscale": [
             [
              0,
              "#0d0887"
             ],
             [
              0.1111111111111111,
              "#46039f"
             ],
             [
              0.2222222222222222,
              "#7201a8"
             ],
             [
              0.3333333333333333,
              "#9c179e"
             ],
             [
              0.4444444444444444,
              "#bd3786"
             ],
             [
              0.5555555555555556,
              "#d8576b"
             ],
             [
              0.6666666666666666,
              "#ed7953"
             ],
             [
              0.7777777777777778,
              "#fb9f3a"
             ],
             [
              0.8888888888888888,
              "#fdca26"
             ],
             [
              1,
              "#f0f921"
             ]
            ],
            "type": "heatmap"
           }
          ],
          "heatmapgl": [
           {
            "colorbar": {
             "outlinewidth": 0,
             "ticks": ""
            },
            "colorscale": [
             [
              0,
              "#0d0887"
             ],
             [
              0.1111111111111111,
              "#46039f"
             ],
             [
              0.2222222222222222,
              "#7201a8"
             ],
             [
              0.3333333333333333,
              "#9c179e"
             ],
             [
              0.4444444444444444,
              "#bd3786"
             ],
             [
              0.5555555555555556,
              "#d8576b"
             ],
             [
              0.6666666666666666,
              "#ed7953"
             ],
             [
              0.7777777777777778,
              "#fb9f3a"
             ],
             [
              0.8888888888888888,
              "#fdca26"
             ],
             [
              1,
              "#f0f921"
             ]
            ],
            "type": "heatmapgl"
           }
          ],
          "histogram": [
           {
            "marker": {
             "pattern": {
              "fillmode": "overlay",
              "size": 10,
              "solidity": 0.2
             }
            },
            "type": "histogram"
           }
          ],
          "histogram2d": [
           {
            "colorbar": {
             "outlinewidth": 0,
             "ticks": ""
            },
            "colorscale": [
             [
              0,
              "#0d0887"
             ],
             [
              0.1111111111111111,
              "#46039f"
             ],
             [
              0.2222222222222222,
              "#7201a8"
             ],
             [
              0.3333333333333333,
              "#9c179e"
             ],
             [
              0.4444444444444444,
              "#bd3786"
             ],
             [
              0.5555555555555556,
              "#d8576b"
             ],
             [
              0.6666666666666666,
              "#ed7953"
             ],
             [
              0.7777777777777778,
              "#fb9f3a"
             ],
             [
              0.8888888888888888,
              "#fdca26"
             ],
             [
              1,
              "#f0f921"
             ]
            ],
            "type": "histogram2d"
           }
          ],
          "histogram2dcontour": [
           {
            "colorbar": {
             "outlinewidth": 0,
             "ticks": ""
            },
            "colorscale": [
             [
              0,
              "#0d0887"
             ],
             [
              0.1111111111111111,
              "#46039f"
             ],
             [
              0.2222222222222222,
              "#7201a8"
             ],
             [
              0.3333333333333333,
              "#9c179e"
             ],
             [
              0.4444444444444444,
              "#bd3786"
             ],
             [
              0.5555555555555556,
              "#d8576b"
             ],
             [
              0.6666666666666666,
              "#ed7953"
             ],
             [
              0.7777777777777778,
              "#fb9f3a"
             ],
             [
              0.8888888888888888,
              "#fdca26"
             ],
             [
              1,
              "#f0f921"
             ]
            ],
            "type": "histogram2dcontour"
           }
          ],
          "mesh3d": [
           {
            "colorbar": {
             "outlinewidth": 0,
             "ticks": ""
            },
            "type": "mesh3d"
           }
          ],
          "parcoords": [
           {
            "line": {
             "colorbar": {
              "outlinewidth": 0,
              "ticks": ""
             }
            },
            "type": "parcoords"
           }
          ],
          "pie": [
           {
            "automargin": true,
            "type": "pie"
           }
          ],
          "scatter": [
           {
            "fillpattern": {
             "fillmode": "overlay",
             "size": 10,
             "solidity": 0.2
            },
            "type": "scatter"
           }
          ],
          "scatter3d": [
           {
            "line": {
             "colorbar": {
              "outlinewidth": 0,
              "ticks": ""
             }
            },
            "marker": {
             "colorbar": {
              "outlinewidth": 0,
              "ticks": ""
             }
            },
            "type": "scatter3d"
           }
          ],
          "scattercarpet": [
           {
            "marker": {
             "colorbar": {
              "outlinewidth": 0,
              "ticks": ""
             }
            },
            "type": "scattercarpet"
           }
          ],
          "scattergeo": [
           {
            "marker": {
             "colorbar": {
              "outlinewidth": 0,
              "ticks": ""
             }
            },
            "type": "scattergeo"
           }
          ],
          "scattergl": [
           {
            "marker": {
             "colorbar": {
              "outlinewidth": 0,
              "ticks": ""
             }
            },
            "type": "scattergl"
           }
          ],
          "scattermapbox": [
           {
            "marker": {
             "colorbar": {
              "outlinewidth": 0,
              "ticks": ""
             }
            },
            "type": "scattermapbox"
           }
          ],
          "scatterpolar": [
           {
            "marker": {
             "colorbar": {
              "outlinewidth": 0,
              "ticks": ""
             }
            },
            "type": "scatterpolar"
           }
          ],
          "scatterpolargl": [
           {
            "marker": {
             "colorbar": {
              "outlinewidth": 0,
              "ticks": ""
             }
            },
            "type": "scatterpolargl"
           }
          ],
          "scatterternary": [
           {
            "marker": {
             "colorbar": {
              "outlinewidth": 0,
              "ticks": ""
             }
            },
            "type": "scatterternary"
           }
          ],
          "surface": [
           {
            "colorbar": {
             "outlinewidth": 0,
             "ticks": ""
            },
            "colorscale": [
             [
              0,
              "#0d0887"
             ],
             [
              0.1111111111111111,
              "#46039f"
             ],
             [
              0.2222222222222222,
              "#7201a8"
             ],
             [
              0.3333333333333333,
              "#9c179e"
             ],
             [
              0.4444444444444444,
              "#bd3786"
             ],
             [
              0.5555555555555556,
              "#d8576b"
             ],
             [
              0.6666666666666666,
              "#ed7953"
             ],
             [
              0.7777777777777778,
              "#fb9f3a"
             ],
             [
              0.8888888888888888,
              "#fdca26"
             ],
             [
              1,
              "#f0f921"
             ]
            ],
            "type": "surface"
           }
          ],
          "table": [
           {
            "cells": {
             "fill": {
              "color": "#EBF0F8"
             },
             "line": {
              "color": "white"
             }
            },
            "header": {
             "fill": {
              "color": "#C8D4E3"
             },
             "line": {
              "color": "white"
             }
            },
            "type": "table"
           }
          ]
         },
         "layout": {
          "annotationdefaults": {
           "arrowcolor": "#2a3f5f",
           "arrowhead": 0,
           "arrowwidth": 1
          },
          "autotypenumbers": "strict",
          "coloraxis": {
           "colorbar": {
            "outlinewidth": 0,
            "ticks": ""
           }
          },
          "colorscale": {
           "diverging": [
            [
             0,
             "#8e0152"
            ],
            [
             0.1,
             "#c51b7d"
            ],
            [
             0.2,
             "#de77ae"
            ],
            [
             0.3,
             "#f1b6da"
            ],
            [
             0.4,
             "#fde0ef"
            ],
            [
             0.5,
             "#f7f7f7"
            ],
            [
             0.6,
             "#e6f5d0"
            ],
            [
             0.7,
             "#b8e186"
            ],
            [
             0.8,
             "#7fbc41"
            ],
            [
             0.9,
             "#4d9221"
            ],
            [
             1,
             "#276419"
            ]
           ],
           "sequential": [
            [
             0,
             "#0d0887"
            ],
            [
             0.1111111111111111,
             "#46039f"
            ],
            [
             0.2222222222222222,
             "#7201a8"
            ],
            [
             0.3333333333333333,
             "#9c179e"
            ],
            [
             0.4444444444444444,
             "#bd3786"
            ],
            [
             0.5555555555555556,
             "#d8576b"
            ],
            [
             0.6666666666666666,
             "#ed7953"
            ],
            [
             0.7777777777777778,
             "#fb9f3a"
            ],
            [
             0.8888888888888888,
             "#fdca26"
            ],
            [
             1,
             "#f0f921"
            ]
           ],
           "sequentialminus": [
            [
             0,
             "#0d0887"
            ],
            [
             0.1111111111111111,
             "#46039f"
            ],
            [
             0.2222222222222222,
             "#7201a8"
            ],
            [
             0.3333333333333333,
             "#9c179e"
            ],
            [
             0.4444444444444444,
             "#bd3786"
            ],
            [
             0.5555555555555556,
             "#d8576b"
            ],
            [
             0.6666666666666666,
             "#ed7953"
            ],
            [
             0.7777777777777778,
             "#fb9f3a"
            ],
            [
             0.8888888888888888,
             "#fdca26"
            ],
            [
             1,
             "#f0f921"
            ]
           ]
          },
          "colorway": [
           "#636efa",
           "#EF553B",
           "#00cc96",
           "#ab63fa",
           "#FFA15A",
           "#19d3f3",
           "#FF6692",
           "#B6E880",
           "#FF97FF",
           "#FECB52"
          ],
          "font": {
           "color": "#2a3f5f"
          },
          "geo": {
           "bgcolor": "white",
           "lakecolor": "white",
           "landcolor": "#E5ECF6",
           "showlakes": true,
           "showland": true,
           "subunitcolor": "white"
          },
          "hoverlabel": {
           "align": "left"
          },
          "hovermode": "closest",
          "mapbox": {
           "style": "light"
          },
          "paper_bgcolor": "white",
          "plot_bgcolor": "#E5ECF6",
          "polar": {
           "angularaxis": {
            "gridcolor": "white",
            "linecolor": "white",
            "ticks": ""
           },
           "bgcolor": "#E5ECF6",
           "radialaxis": {
            "gridcolor": "white",
            "linecolor": "white",
            "ticks": ""
           }
          },
          "scene": {
           "xaxis": {
            "backgroundcolor": "#E5ECF6",
            "gridcolor": "white",
            "gridwidth": 2,
            "linecolor": "white",
            "showbackground": true,
            "ticks": "",
            "zerolinecolor": "white"
           },
           "yaxis": {
            "backgroundcolor": "#E5ECF6",
            "gridcolor": "white",
            "gridwidth": 2,
            "linecolor": "white",
            "showbackground": true,
            "ticks": "",
            "zerolinecolor": "white"
           },
           "zaxis": {
            "backgroundcolor": "#E5ECF6",
            "gridcolor": "white",
            "gridwidth": 2,
            "linecolor": "white",
            "showbackground": true,
            "ticks": "",
            "zerolinecolor": "white"
           }
          },
          "shapedefaults": {
           "line": {
            "color": "#2a3f5f"
           }
          },
          "ternary": {
           "aaxis": {
            "gridcolor": "white",
            "linecolor": "white",
            "ticks": ""
           },
           "baxis": {
            "gridcolor": "white",
            "linecolor": "white",
            "ticks": ""
           },
           "bgcolor": "#E5ECF6",
           "caxis": {
            "gridcolor": "white",
            "linecolor": "white",
            "ticks": ""
           }
          },
          "title": {
           "x": 0.05
          },
          "xaxis": {
           "automargin": true,
           "gridcolor": "white",
           "linecolor": "white",
           "ticks": "",
           "title": {
            "standoff": 15
           },
           "zerolinecolor": "white",
           "zerolinewidth": 2
          },
          "yaxis": {
           "automargin": true,
           "gridcolor": "white",
           "linecolor": "white",
           "ticks": "",
           "title": {
            "standoff": 15
           },
           "zerolinecolor": "white",
           "zerolinewidth": 2
          }
         }
        },
        "title": {
         "text": "Columns Subsampling and Impact on Model Performace"
        },
        "width": 1000,
        "xaxis": {
         "anchor": "y",
         "domain": [
          0,
          1
         ],
         "title": {
          "text": "param_colsample_bytree"
         }
        },
        "yaxis": {
         "anchor": "x",
         "domain": [
          0,
          1
         ],
         "title": {
          "text": "mean_test_score"
         }
        }
       }
      }
     },
     "metadata": {},
     "output_type": "display_data"
    },
    {
     "data": {
      "text/plain": [
       "<Figure size 100x500 with 0 Axes>"
      ]
     },
     "metadata": {},
     "output_type": "display_data"
    }
   ],
   "source": [
    "plt.figure(figsize=(1,5))\n",
    "fig = px.bar(cv_2_results, x='param_colsample_bytree', y=\"mean_test_score\", color=\"rank_test_score\", hover_data=['rank_test_score'],\n",
    "             title=\"Columns Subsampling and Impact on Model Performace\")\n",
    "fig.update_layout(barmode='group')\n",
    "fig.update_layout(\n",
    "    autosize=False,\n",
    "    width=1000,\n",
    "    height=600,)\n",
    "fig.show()"
   ]
  },
  {
   "cell_type": "code",
   "execution_count": 30,
   "metadata": {},
   "outputs": [],
   "source": [
    "auc_metric = []\n",
    "\n",
    "from imblearn.combine import SMOTEENN\n",
    "for i in range(1):\n",
    "    train, test = scsplit(input_d, stratify = input_d[\"range\"],test_size = 0.2,\n",
    "                                             train_size = 0.8, random_state = 0)\n",
    "    \n",
    "    X, y = train.drop(\"range\", axis = 1),train[\"range\"]\n",
    "    y = LabelEncoder().fit_transform(y)\n",
    "    oversample = SMOTE()\n",
    "    X, y = oversample.fit_resample(X, y)\n",
    "\n",
    "    data_model = pd.DataFrame(X)\n",
    "    data_model[\"range\"] = y\n",
    "\n",
    "    X_validate = test\n",
    "    data_val = pd.DataFrame(X_validate)\n",
    "    data_val[\"range\"] = test[\"range\"]\n",
    "\n",
    "    data_model_f = data_model\n",
    "    data_xgb = data_model_f.drop([\"seq_TEMP\",\"range\"], axis = 1)\n",
    "    data_xgb_y = data_model_f[\"range\"] \n",
    "\n",
    "    data_val_f = data_val.drop([\"seq_TEMP\",\"range\"], axis = 1)\n",
    "    data_val_end = data_val[\"range\"]\n",
    "\n",
    "    model = xgb.XGBClassifier(\n",
    "                         num_parallel_tree = 100,\n",
    "                         max_depth = 8,\n",
    "                         learning_rate = 0.1,\n",
    "                         verbosity = 2,\n",
    "                         booster = 'gbtree',\n",
    "                         tree_method = 'auto',\n",
    "                         eval_metric= ['auc'],\n",
    "                         n_jobs = -1,\n",
    "                         subsample = 0.1,\n",
    "                         sampling_method ='uniform',\n",
    "                         colsample_bytree = 0.1,\n",
    "                         objective ='multi:softprob'\n",
    "                        )\n",
    "    \n",
    "    model.fit(data_xgb,data_xgb_y,eval_set=[(data_xgb, data_xgb_y),(data_val_f,data_val_end)],early_stopping_rounds=3)\n",
    "\n",
    "    auc_scr = roc_auc_score(data_val_end,model.predict_proba(data_val_f),multi_class = 'ovr')\n",
    "    auc_metric.append(auc_scr)\n",
    "    "
   ]
  },
  {
   "cell_type": "code",
   "execution_count": 31,
   "metadata": {},
   "outputs": [
    {
     "data": {
      "text/plain": [
       "0    1435\n",
       "4    1418\n",
       "3    1396\n",
       "2    1389\n",
       "1     257\n",
       "Name: range, dtype: int64"
      ]
     },
     "execution_count": 31,
     "metadata": {},
     "output_type": "execute_result"
    }
   ],
   "source": [
    "data_model[\"range\"].value_counts()"
   ]
  }
 ],
 "metadata": {
  "kernelspec": {
   "display_name": "Master_thesis",
   "language": "python",
   "name": "python3"
  },
  "language_info": {
   "codemirror_mode": {
    "name": "ipython",
    "version": 3
   },
   "file_extension": ".py",
   "mimetype": "text/x-python",
   "name": "python",
   "nbconvert_exporter": "python",
   "pygments_lexer": "ipython3",
   "version": "3.9.13"
  },
  "orig_nbformat": 4,
  "vscode": {
   "interpreter": {
    "hash": "c7a8fa1a47d145f5bb55c5020df10af37d520d3ec341d44050e8758c3a10c32b"
   }
  }
 },
 "nbformat": 4,
 "nbformat_minor": 2
}
